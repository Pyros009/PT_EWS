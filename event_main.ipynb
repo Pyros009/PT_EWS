{
 "cells": [
  {
   "cell_type": "code",
   "execution_count": 1,
   "metadata": {},
   "outputs": [],
   "source": [
    "import pandas as pd\n",
    "from obspy import UTCDateTime\n",
    "from obspy.clients.fdsn import Client as FDSNclient\n",
    "from src.filtering import filtering_data\n",
    "from src.fourier import fourier_transform\n",
    "from src.core import main_processing\n",
    "from obspy.clients.seedlink.easyseedlink import create_client\n",
    "from obspy import Trace, UTCDateTime, Stream\n",
    "from obspy.clients.fdsn import Client as FDSNclient\n",
    "from obspy.core.inventory import Inventory\n",
    "import matplotlib.pyplot as plt\n",
    "import numpy as np\n",
    "import logging\n",
    "\n",
    "def process_index(element, ref_time):\n",
    "    event_stat = {}\n",
    "    try:\n",
    "    \n",
    "        url = 'rtserve.iris.washington.edu:18000'\n",
    "        source = {\n",
    "            \"LX\": {\"MORF\": [\"BHE\", \"BHN\", \"BHZ\"]}\n",
    "        }\n",
    "\n",
    "        loc = '--'\n",
    "        \n",
    "        client = FDSNclient(\"IRIS\")\n",
    "        gap = 120\n",
    "        \n",
    "        ref_time = UTCDateTime(ref_time)\n",
    "\n",
    "        starttime = ref_time - gap  # 2 minutes before\n",
    "        endtime = ref_time + gap  # 2 minutes after\n",
    "\n",
    "        st = None\n",
    "        \n",
    "        # Attempt to print available streams\n",
    "        for server, values in source.items():\n",
    "            for channel, ch in values.items():\n",
    "                for i in ch:\n",
    "                    trace = client.get_waveforms(server, channel, loc, i, starttime, endtime, attach_response=True)\n",
    "                    \n",
    "                    if st is None:\n",
    "                        st = trace\n",
    "                    else:\n",
    "                        st += trace  # Use += to concatenate traces\n",
    "\n",
    "        if st is None:\n",
    "            logging.error(\"No data retrieved for the given time window.\")\n",
    "            return {}\n",
    "        \n",
    "        st2 = st.copy()\n",
    "\n",
    "        # Process components\n",
    "        st_z = st.select(component=\"Z\")\n",
    "        st_n = st.select(component=\"N\")\n",
    "        st_e = st.select(component=\"E\")\n",
    "\n",
    "        # Process Z component\n",
    "        if len(st_z) > 0:\n",
    "            filtered_z, time_vector_z = filtering_data(st2.select(component=\"Z\")[0])\n",
    "            dom_freq_z, amp_z = fourier_transform(filtered_z, st_z[0])\n",
    "            event_stat[\"Domin_freq_z\"] = dom_freq_z\n",
    "        else:\n",
    "            print(\"No Z component traces available.\")\n",
    "\n",
    "        # Process N component\n",
    "        if len(st_n) > 0:\n",
    "            filtered_n, time_vector_n = filtering_data(st2.select(component=\"N\")[0])\n",
    "            dom_freq_n, amp_n = fourier_transform(filtered_n, st_n[0])\n",
    "            event_stat[\"Domin_freq_n\"] = dom_freq_n\n",
    "        else:\n",
    "            print(\"No N component traces available.\")\n",
    "\n",
    "        # Process E component\n",
    "        if len(st_e) > 0:\n",
    "            filtered_e, time_vector_e = filtering_data(st2.select(component=\"E\")[0])\n",
    "            dom_freq_e, amp_e = fourier_transform(filtered_e, st_e[0])\n",
    "            event_stat[\"Domin_freq_e\"] = dom_freq_e\n",
    "        else:\n",
    "            print(\"No E component traces available.\")\n",
    "\n",
    "        details = main_processing(filtered_z, gap, dom_freq_z)\n",
    "        display(details)\n",
    "\n",
    "        for key, dicts in details.items():\n",
    "            if key == 1:\n",
    "                for stat, values in dicts.items():\n",
    "                    if stat == \"Vel Amp (m/s)\":\n",
    "                        event_stat[\"P-Vel amp (m/s)\"] = values\n",
    "                    elif stat == \"Disp Amp (m)\":\n",
    "                        event_stat[\"P-Disp amp (m)\"] = values\n",
    "                    elif stat == \"peak2peak\":\n",
    "                        event_stat[\"P-peak2peak\"] = values\n",
    "                    elif stat == \"r\":\n",
    "                        event_stat[\"P-r\"] = values\n",
    "                    elif stat == \"moment_history\":\n",
    "                        event_stat[\"P-moment_history\"] = values\n",
    "                    elif stat == \"tau_c\":\n",
    "                        event_stat[\"P-tau_c\"] = values    \n",
    "                    else:\n",
    "                        print(f\"{key} error\")\n",
    "            elif key == 2:\n",
    "                for stat, values in dicts.items():\n",
    "                    if stat == \"Vel Amp (m/s)\":\n",
    "                        event_stat[\"S-Vel amp (m/s)\"] = values\n",
    "                    elif stat == \"Disp Amp (m)\":\n",
    "                        event_stat[\"S-Disp amp (m)\"] = values\n",
    "                    elif stat == \"peak2peak\":\n",
    "                        event_stat[\"S-peak2peak\"] = values\n",
    "                    elif stat == \"r\":\n",
    "                        event_stat[\"S-r\"] = values\n",
    "                    elif stat == \"moment_history\":\n",
    "                        event_stat[\"S-moment_history\"] = values\n",
    "                    elif stat == \"tau_c\":\n",
    "                        event_stat[\"S-tau_c\"] = values    \n",
    "                    else:\n",
    "                        print(f\"{key} error\")\n",
    "            elif key == \"RMS\":\n",
    "                event_stat[\"RMS\"] = dicts    \n",
    "            elif key == \"Energy\":\n",
    "                event_stat[\"Energy\"] = dicts \n",
    "            elif key == \"peak_freq\":\n",
    "                event_stat[\"peak_freq\"] = dicts \n",
    "            elif key == \"wavelength\":\n",
    "                event_stat[\"wavelength\"] = dicts \n",
    "            elif key == \"peak_disp\":\n",
    "                event_stat[\"peak_disp\"] = dicts \n",
    "            elif key == \"M0\":\n",
    "                event_stat[\"M0\"] = dicts \n",
    "            else:\n",
    "                event_stat[\"other infos\"] = values\n",
    "                \n",
    "        print(f\"...Finished processing {element}\")    \n",
    "        return event_stat\n",
    "    except Exception as e:\n",
    "        print(f\"Error fetching index: {element}, Error: {e}\")"
   ]
  },
  {
   "cell_type": "code",
   "execution_count": 3,
   "metadata": {},
   "outputs": [
    {
     "data": {
      "text/plain": [
       "{1: {'peak2peak': np.float64(0.06666666666666667),\n",
       "  'Vel Amp (m/s)': np.float64(6.82575779100653e-07),\n",
       "  'Disp Amp (m)': np.float64(-1.663846472679064e-08),\n",
       "  'r': np.float64(3.963250996061087e-06),\n",
       "  'moment_history': np.float64(2.638282172642141e-08),\n",
       "  'tau_c': np.float64(3156.1241591444214)},\n",
       " 2: {'peak2peak': np.float64(0.0761904761904762),\n",
       "  'Vel Amp (m/s)': np.float64(2.840349027226505e-05),\n",
       "  'Disp Amp (m)': np.float64(-6.923633763206453e-07)},\n",
       " 'RMS': np.float64(1.8021782788252969e-06),\n",
       " 'Energy': np.float64(3.2478465486697096e-12),\n",
       " 'peak_freq': np.float64(6.529166666666667),\n",
       " 'wavelength': np.float64(918.9534141671985),\n",
       " 'peak_disp': np.float64(2.0043688434520157e-08),\n",
       " 'M0': np.float64(6013106530.356047)}"
      ]
     },
     "metadata": {},
     "output_type": "display_data"
    },
    {
     "name": "stdout",
     "output_type": "stream",
     "text": [
      "...Finished processing 1\n"
     ]
    },
    {
     "data": {
      "text/plain": [
       "{1: {'peak2peak': np.float64(0.14545454545454545),\n",
       "  'Vel Amp (m/s)': np.float64(2.111295162702664e-08),\n",
       "  'Disp Amp (m)': np.float64(1.001807885128357e-09),\n",
       "  'r': np.float64(3.2982769707178277e-06),\n",
       "  'moment_history': np.float64(-1.4501574514206789e-09),\n",
       "  'tau_c': np.float64(3459.6829966070163)},\n",
       " 2: {'peak2peak': np.float64(0.16),\n",
       "  'Vel Amp (m/s)': np.float64(2.959681869592324e-08),\n",
       "  'Disp Amp (m)': np.float64(1.4043667066586258e-09)},\n",
       " 'RMS': np.float64(5.808716337551771e-09),\n",
       " 'Energy': np.float64(3.374118549014086e-17),\n",
       " 'peak_freq': np.float64(3.3541666666666665),\n",
       " 'wavelength': np.float64(1788.8198757763976),\n",
       " 'peak_disp': np.float64(-2.134588811681685e-10),\n",
       " 'M0': np.float64(-64037664.35045055)}"
      ]
     },
     "metadata": {},
     "output_type": "display_data"
    },
    {
     "name": "stdout",
     "output_type": "stream",
     "text": [
      "...Finished processing 2\n"
     ]
    },
    {
     "data": {
      "text/plain": [
       "{1: {'peak2peak': np.float64(0.14545454545454545),\n",
       "  'Vel Amp (m/s)': np.float64(1.1464400959204441e-08),\n",
       "  'Disp Amp (m)': np.float64(5.270747178614645e-10),\n",
       "  'r': np.float64(1.5893550793999137e-07),\n",
       "  'moment_history': np.float64(7.519360069248243e-11),\n",
       "  'tau_c': np.float64(15760.478586802097)},\n",
       " 'RMS': np.float64(4.21307814939779e-09),\n",
       " 'Energy': np.float64(1.7750027492933104e-17),\n",
       " 'peak_freq': np.float64(3.461778796084149),\n",
       " 'wavelength': np.float64(1733.2129963898917),\n",
       " 'peak_disp': np.float64(6.748270494204698e-11),\n",
       " 'M0': np.float64(20244811.482614093)}"
      ]
     },
     "metadata": {},
     "output_type": "display_data"
    },
    {
     "name": "stdout",
     "output_type": "stream",
     "text": [
      "...Finished processing 3\n"
     ]
    },
    {
     "data": {
      "text/plain": [
       "{1: {'peak2peak': np.float64(0.22857142857142856),\n",
       "  'Vel Amp (m/s)': np.float64(4.75628931797061e-09),\n",
       "  'Disp Amp (m)': np.float64(3.209838681541493e-10),\n",
       "  'r': np.float64(5.816953075655879e-07),\n",
       "  'moment_history': np.float64(2.641665177538757e-10),\n",
       "  'tau_c': np.float64(8238.195389755649)},\n",
       " 2: {'peak2peak': np.float64(0.16),\n",
       "  'Vel Amp (m/s)': np.float64(9.525967656702927e-09),\n",
       "  'Disp Amp (m)': np.float64(6.428713103736212e-10)},\n",
       " 3: {'peak2peak': np.float64(0.22857142857142856),\n",
       "  'Vel Amp (m/s)': np.float64(9.25494987396085e-09),\n",
       "  'Disp Amp (m)': np.float64(6.245813514524027e-10)},\n",
       " 4: {'peak2peak': np.float64(0.17777777777777778),\n",
       "  'Vel Amp (m/s)': np.float64(1.1869390481839133e-08),\n",
       "  'Disp Amp (m)': np.float64(8.010200000025122e-10)},\n",
       " 'RMS': np.float64(2.6098437406680065e-09),\n",
       " 'Energy': np.float64(6.811284350703973e-18),\n",
       " 'peak_freq': np.float64(2.3583333333333334),\n",
       " 'wavelength': np.float64(2544.1696113074204),\n",
       " 'peak_disp': np.float64(1.437772423753383e-10),\n",
       " 'M0': np.float64(43133172.71260149)}"
      ]
     },
     "metadata": {},
     "output_type": "display_data"
    },
    {
     "name": "stdout",
     "output_type": "stream",
     "text": [
      "...Finished processing 5\n"
     ]
    },
    {
     "data": {
      "text/plain": [
       "{1: {'peak2peak': np.float64(0.14545454545454545),\n",
       "  'Vel Amp (m/s)': np.float64(7.333937354941555e-09),\n",
       "  'Disp Amp (m)': np.float64(3.4549214967543514e-10),\n",
       "  'r': np.float64(3.7883144199561163e-07),\n",
       "  'moment_history': np.float64(-2.522353764343498e-10),\n",
       "  'tau_c': np.float64(10208.380747720355)},\n",
       " 2: {'peak2peak': np.float64(0.17777777777777778),\n",
       "  'Vel Amp (m/s)': np.float64(1.565852722369857e-08),\n",
       "  'Disp Amp (m)': np.float64(7.376526372456387e-10)},\n",
       " 3: {'peak2peak': np.float64(0.14545454545454545),\n",
       "  'Vel Amp (m/s)': np.float64(1.4014805884445196e-08),\n",
       "  'Disp Amp (m)': np.float64(6.602190853237108e-10)},\n",
       " 'RMS': np.float64(3.445722542567204e-09),\n",
       " 'Energy': np.float64(1.1873003840355796e-17),\n",
       " 'peak_freq': np.float64(3.3784628202457823),\n",
       " 'wavelength': np.float64(1775.955610357583),\n",
       " 'peak_disp': np.float64(2.2706678213461645e-10),\n",
       " 'M0': np.float64(68120034.64038493)}"
      ]
     },
     "metadata": {},
     "output_type": "display_data"
    },
    {
     "name": "stdout",
     "output_type": "stream",
     "text": [
      "...Finished processing 4\n"
     ]
    },
    {
     "data": {
      "text/plain": [
       "{1: {'peak2peak': np.float64(0.14545454545454545),\n",
       "  'Vel Amp (m/s)': np.float64(7.769828827423235e-09),\n",
       "  'Disp Amp (m)': np.float64(3.6784068141288505e-10),\n",
       "  'r': np.float64(7.349436038318287e-08),\n",
       "  'moment_history': np.float64(-2.5620289835891787e-10),\n",
       "  'tau_c': np.float64(23176.767336136436)},\n",
       " 2: {'peak2peak': np.float64(0.14545454545454545),\n",
       "  'Vel Amp (m/s)': np.float64(2.556245664582901e-08),\n",
       "  'Disp Amp (m)': np.float64(1.2101825767386216e-09)},\n",
       " 'RMS': np.float64(4.043339698497421e-09),\n",
       " 'Energy': np.float64(1.6348595917445215e-17),\n",
       " 'peak_freq': np.float64(3.361799625078109),\n",
       " 'wavelength': np.float64(1784.7583643122675),\n",
       " 'peak_disp': np.float64(7.555420785325056e-11),\n",
       " 'M0': np.float64(22666262.355975166)}"
      ]
     },
     "metadata": {},
     "output_type": "display_data"
    },
    {
     "name": "stdout",
     "output_type": "stream",
     "text": [
      "...Finished processing 6\n",
      "[1]\n",
      "ALERT!\n",
      "[1]\n",
      "ALERT!\n",
      "[1]\n",
      "ALERT!\n",
      "[0]\n"
     ]
    },
    {
     "name": "stderr",
     "output_type": "stream",
     "text": [
      "c:\\Users\\Utilizador\\Desktop\\IRONHACK\\.venv\\Lib\\site-packages\\sklearn\\base.py:493: UserWarning: X does not have valid feature names, but BaggingClassifier was fitted with feature names\n",
      "  warnings.warn(\n",
      "c:\\Users\\Utilizador\\Desktop\\IRONHACK\\.venv\\Lib\\site-packages\\sklearn\\base.py:493: UserWarning: X does not have valid feature names, but BaggingClassifier was fitted with feature names\n",
      "  warnings.warn(\n",
      "c:\\Users\\Utilizador\\Desktop\\IRONHACK\\.venv\\Lib\\site-packages\\sklearn\\base.py:493: UserWarning: X does not have valid feature names, but BaggingClassifier was fitted with feature names\n",
      "  warnings.warn(\n",
      "c:\\Users\\Utilizador\\Desktop\\IRONHACK\\.venv\\Lib\\site-packages\\sklearn\\base.py:493: UserWarning: X does not have valid feature names, but BaggingClassifier was fitted with feature names\n",
      "  warnings.warn(\n",
      "c:\\Users\\Utilizador\\Desktop\\IRONHACK\\.venv\\Lib\\site-packages\\sklearn\\base.py:493: UserWarning: X does not have valid feature names, but BaggingClassifier was fitted with feature names\n",
      "  warnings.warn(\n"
     ]
    },
    {
     "name": "stdout",
     "output_type": "stream",
     "text": [
      "[1]\n",
      "ALERT!\n",
      "[1]\n",
      "ALERT!\n"
     ]
    },
    {
     "name": "stderr",
     "output_type": "stream",
     "text": [
      "c:\\Users\\Utilizador\\Desktop\\IRONHACK\\.venv\\Lib\\site-packages\\sklearn\\base.py:493: UserWarning: X does not have valid feature names, but BaggingClassifier was fitted with feature names\n",
      "  warnings.warn(\n"
     ]
    }
   ],
   "source": [
    "import numpy as np\n",
    "import joblib\n",
    "from sklearn.preprocessing import MinMaxScaler\n",
    "\n",
    "# Load the model from the .pkl file\n",
    "model = joblib.load('models/model_FINAL.pkl')\n",
    "best_model = model.best_estimator_\n",
    "\n",
    "#events: \n",
    "\n",
    "event = {\"1\": \"2024-11-06 16:03:17\" # M3.4 \"close\" sensed-n = 0\n",
    "         ,\"2\": \"2024-09-04 00:03:00\" # M1.9 \"close\" int = II sensed-n = 1\n",
    "         ,\"3\": \"2024-06-29 04:45:00\" # M3.4         III/IV sensed-n = 1\n",
    "         ,\"5\": \"2024-08-26 05:11:00\" # M5.3 \"close\" int IV/V sensed-n = 1\n",
    "         ,\"4\": \"2024-08-11 07:18:00\" # M2.6 \"close\" III sensed-n = 1\n",
    "         ,\"6\": \"2024-08-11 05:48:00\" # M3.4 \"close\" III sensed-n = 1\n",
    "        }\n",
    "\n",
    "# pre-processing\n",
    "\n",
    "event_data = pd.DataFrame()\n",
    "for key, values in event.items():\n",
    "    event_stat = process_index(key, values)\n",
    "    event_data[\"datetime\"] = values\n",
    "    event_data = pd.concat([event_data, pd.Series(event_stat, name=key).to_frame().T], ignore_index=True, axis=0)\n",
    "    # Reset index to have a clean DataFrame\n",
    "    event_data.reset_index(drop=True, inplace=True)\n",
    "    \n",
    "event_data[\"Domin_freq_n\"] = abs(event_data[\"Domin_freq_n\"])\n",
    "event_data[\"Domin_freq_e\"] = abs(event_data[\"Domin_freq_e\"])\n",
    "event_data[\"Domin_freq_z\"] = abs(event_data[\"Domin_freq_z\"])\n",
    "event_data[\"P-Vel amp (m/s)\"] = abs(event_data[\"P-Vel amp (m/s)\"])\n",
    "event_data[\"S-Vel amp (m/s)\"] = abs(event_data[\"S-Vel amp (m/s)\"])\n",
    "event_data[\"P-Disp amp (m)\"] = abs(event_data[\"P-Disp amp (m)\"])\n",
    "event_data[\"S-Disp amp (m)\"] = abs(event_data[\"S-Disp amp (m)\"])\n",
    "event_data[\"Mw\"] = 4.525*np.log10(event_data[\"P-tau_c\"]) +5.036\n",
    "\n",
    "# select the features\n",
    "features = event_data [['Domin_freq_z','P-peak2peak', 'P-Disp amp (m)', 'P-r', 'P-moment_history', 'P-tau_c','Mw']]\n",
    "\n",
    "# normalize\n",
    "normalizer = MinMaxScaler()\n",
    "normalizer.fit(features)\n",
    "features_norm = normalizer.transform(features)\n",
    "features_norm = pd.DataFrame(features_norm, columns=features.columns)\n",
    "\n",
    "for index, event in features_norm.iterrows():      \n",
    "    y_prob = best_model.predict_proba([event])[:, 1]  # Probabilities for the positive class\n",
    "    custom_threshold = 0.01\n",
    "    y_pred_custom_threshold = (y_prob >= custom_threshold).astype(int)\n",
    "    print(y_pred_custom_threshold)\n",
    "    if y_pred_custom_threshold == 1:\n",
    "        print(\"ALERT!\")             "
   ]
  }
 ],
 "metadata": {
  "kernelspec": {
   "display_name": ".venv",
   "language": "python",
   "name": "python3"
  },
  "language_info": {
   "codemirror_mode": {
    "name": "ipython",
    "version": 3
   },
   "file_extension": ".py",
   "mimetype": "text/x-python",
   "name": "python",
   "nbconvert_exporter": "python",
   "pygments_lexer": "ipython3",
   "version": "3.12.7"
  }
 },
 "nbformat": 4,
 "nbformat_minor": 2
}
