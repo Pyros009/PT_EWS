{
 "cells": [
  {
   "cell_type": "code",
   "execution_count": null,
   "metadata": {},
   "outputs": [
    {
     "ename": "ModuleNotFoundError",
     "evalue": "No module named 'src'",
     "output_type": "error",
     "traceback": [
      "\u001b[1;31m---------------------------------------------------------------------------\u001b[0m",
      "\u001b[1;31mModuleNotFoundError\u001b[0m                       Traceback (most recent call last)",
      "Cell \u001b[1;32mIn[2], line 15\u001b[0m\n\u001b[0;32m     13\u001b[0m \u001b[38;5;28;01mfrom\u001b[39;00m \u001b[38;5;21;01mmultiprocessing\u001b[39;00m \u001b[38;5;28;01mimport\u001b[39;00m Queue\n\u001b[0;32m     14\u001b[0m \u001b[38;5;28;01mimport\u001b[39;00m \u001b[38;5;21;01mpandas\u001b[39;00m \u001b[38;5;28;01mas\u001b[39;00m \u001b[38;5;21;01mpd\u001b[39;00m\n\u001b[1;32m---> 15\u001b[0m \u001b[38;5;28;01mfrom\u001b[39;00m \u001b[38;5;21;01msrc\u001b[39;00m\u001b[38;5;21;01m.\u001b[39;00m\u001b[38;5;21;01mfiltering\u001b[39;00m \u001b[38;5;28;01mimport\u001b[39;00m filtering_data\n\u001b[0;32m     16\u001b[0m \u001b[38;5;28;01mfrom\u001b[39;00m \u001b[38;5;21;01msrc\u001b[39;00m\u001b[38;5;21;01m.\u001b[39;00m\u001b[38;5;21;01mfourier\u001b[39;00m \u001b[38;5;28;01mimport\u001b[39;00m fourier_transform\n\u001b[0;32m     17\u001b[0m \u001b[38;5;28;01mfrom\u001b[39;00m \u001b[38;5;21;01msrc\u001b[39;00m\u001b[38;5;21;01m.\u001b[39;00m\u001b[38;5;21;01mcore\u001b[39;00m \u001b[38;5;28;01mimport\u001b[39;00m main_processing\n",
      "\u001b[1;31mModuleNotFoundError\u001b[0m: No module named 'src'"
     ]
    }
   ],
   "source": [
    "from obspy.clients.seedlink.easyseedlink import create_client\n",
    "from obspy import Trace, UTCDateTime, Stream\n",
    "from obspy.clients.fdsn import Client as FDSNclient\n",
    "from obspy.core.inventory import Inventory\n",
    "import matplotlib.pyplot as plt\n",
    "import time\n",
    "from obspy import UTCDateTime\n",
    "from bs4 import BeautifulSoup\n",
    "import requests\n",
    "import logging.handlers\n",
    "import numpy as np\n",
    "import logging, os\n",
    "from multiprocessing import Queue\n",
    "import pandas as pd\n",
    "from src.filtering import filtering_data\n",
    "from src.fourier import fourier_transform\n",
    "from src.core import main_processing\n",
    "import joblib\n"
   ]
  },
  {
   "cell_type": "code",
   "execution_count": null,
   "metadata": {},
   "outputs": [],
   "source": [
    "current_dir = os.getcwd()\n",
    "root_dir = os.path.abspath(os.path.join(current_dir, '..', '..'))\n",
    "directory_path = os.path.join(root_dir, 'dbs') # Change this to your folder path\n",
    "file_path = os.path.join(directory_path, \"processed_ds2_partial.csv\")\n",
    "\n",
    "datasource = pd.read_csv(file_path, index_col=\"index\")"
   ]
  },
  {
   "cell_type": "code",
   "execution_count": null,
   "metadata": {},
   "outputs": [],
   "source": [
    "datasource.columns"
   ]
  },
  {
   "cell_type": "code",
   "execution_count": null,
   "metadata": {},
   "outputs": [],
   "source": [
    "columns_datasource = ['index', 'datetime', 'lat', 'lon', 'depth', 'mag', 'Rms', 'Int',\n",
    "       'sensed', 'lat_decimal', 'lon_decimal', 'dist_MORF', 'Domin_freq_z',\n",
    "       'Domin_freq_n', 'Domin_freq_e', 'P-peak2peak', 'P-Vel amp (m/s)',\n",
    "       'P-Disp amp (m)', 'P-r', 'P-moment_history', 'P-tau_c', 'S-peak2peak',\n",
    "       'S-Vel amp (m/s)', 'RMS', 'S-Disp amp (m)', 'S-r', 'Energy',\n",
    "       'S-moment_history', 'peak_freq', 'S-tau_c', 'wavelength', 'other infos',\n",
    "       'peak_disp', 'M0']"
   ]
  },
  {
   "cell_type": "code",
   "execution_count": null,
   "metadata": {},
   "outputs": [],
   "source": [
    "def classify(row):\n",
    "    if row == \"V/VI\":\n",
    "        return 6\n",
    "    elif row == \"V\":\n",
    "        return 5\n",
    "    elif row == \"IV/V\":\n",
    "        return 4.5\n",
    "    elif row == \"IV\":\n",
    "        return 4\n",
    "    elif row ==\"III/IV\":\n",
    "        return 3.5\n",
    "    elif row == \"III\":\n",
    "        return 3\n",
    "    elif row ==\"II/III\":\n",
    "        return 2.5\n",
    "    elif row ==\"II\":\n",
    "        return 2\n",
    "    elif row == \"I/II\":\n",
    "        return 1.5\n",
    "    elif row == \"I\":\n",
    "        return 1\n",
    "    else:\n",
    "        return 0\n",
    "\n",
    "datasource[\"num_int\"] = datasource[\"Int\"].apply(lambda x :classify(x))"
   ]
  },
  {
   "cell_type": "code",
   "execution_count": null,
   "metadata": {},
   "outputs": [],
   "source": [
    "datasource2= datasource.__deepcopy__()\n",
    "\n",
    "datasource2 = datasource2.drop([\"Int\", \"lat\", \"lon\", \"Rms\", \"mag\"], axis=1)\n",
    "datasource2.isna().sum()\n",
    "datasource2 = datasource2.dropna(axis=0)\n",
    "\n",
    "datasource2[\"Domin_freq_n\"] = abs(datasource2[\"Domin_freq_n\"])\n",
    "datasource2[\"Domin_freq_e\"] = abs(datasource2[\"Domin_freq_e\"])\n",
    "datasource2[\"Domin_freq_z\"] = abs(datasource2[\"Domin_freq_z\"])\n",
    "datasource2[\"P-Vel amp (m/s)\"] = abs(datasource2[\"P-Vel amp (m/s)\"])\n",
    "datasource2[\"S-Vel amp (m/s)\"] = abs(datasource2[\"S-Vel amp (m/s)\"])\n",
    "datasource2[\"P-Disp amp (m)\"] = abs(datasource2[\"P-Disp amp (m)\"])\n",
    "datasource2[\"S-Disp amp (m)\"] = abs(datasource2[\"S-Disp amp (m)\"])\n",
    "\n",
    "datasource2[\"Mw\"] = 4.525*np.log10(datasource2[\"P-tau_c\"]) +5.036\n",
    "\n",
    "datasource2[\"sensed_n\"] = datasource2[\"num_int\"].apply(lambda x: 1 if x > 2.5 else 0) \n",
    "datasource2.loc[datasource2[\"sensed_n\"] == 1, \"dist_MORF\"] = datasource2.loc[datasource2[\"sensed_n\"] == 1, \"dist_MORF\"].apply(lambda x: 0 if x > 627 else 1)\n",
    "\n",
    "true_features = datasource2[['Domin_freq_z','Domin_freq_n', 'Domin_freq_e', 'P-peak2peak', 'P-Vel amp (m/s)',\n",
    "       'P-Disp amp (m)', 'P-r', 'P-moment_history', 'P-tau_c'\n",
    "       #,'S-peak2peak','S-Vel amp (m/s)','S-Disp amp (m)', 'S-r','S-moment_history', 'S-tau_c'\n",
    "       ,'RMS',  'Energy','peak_freq', 'wavelength', 'other infos', 'peak_disp', 'M0', \"Mw\"]]\n",
    "\n",
    "target = datasource2[[\"sensed_n\"]]"
   ]
  },
  {
   "cell_type": "code",
   "execution_count": null,
   "metadata": {},
   "outputs": [],
   "source": [
    "import pandas as pd\n",
    "import numpy as np\n",
    "import matplotlib.pyplot as plt\n",
    "import seaborn as sns\n",
    "\n",
    "# Assuming datasource2 is your DataFrame\n",
    "# If you have missing or NaN values, you may need to handle those\n",
    "# For now, let's proceed assuming it's clean, or you can adjust later if needed\n",
    "\n",
    "# 1. Data Overview\n",
    "print(\"=== Data Overview ===\")\n",
    "print(datasource2.describe())  # Summary statistics for numerical columns\n",
    "\n",
    "# 2. Distribution of Each Column (Histograms and Boxplots)\n",
    "# Create histograms and boxplots for continuous features\n",
    "\n",
    "# List of columns to analyze\n",
    "numeric_columns = ['Domin_freq_z', 'Domin_freq_n', 'Domin_freq_e', 'P-peak2peak', 'P-Vel amp (m/s)',\n",
    "                   'P-Disp amp (m)', 'P-r', 'P-moment_history', 'P-tau_c', 'RMS',  'Energy', \n",
    "                   'peak_freq', 'wavelength', 'peak_disp', 'M0', \"Mw\"]\n",
    "\n",
    "# Create a grid of plots\n",
    "fig, axes = plt.subplots(len(numeric_columns), 2, figsize=(12, 3 * len(numeric_columns)))\n",
    "\n",
    "for i, col in enumerate(numeric_columns):\n",
    "    # Histogram\n",
    "    sns.histplot(datasource2[col], ax=axes[i, 0], color='skyblue', bins=30)\n",
    "    axes[i, 0].set_title(f\"Histogram of {col}\")\n",
    "    \n",
    "    # Boxplot\n",
    "    sns.boxplot(x=datasource2[col], ax=axes[i, 1], color='lightgreen')\n",
    "    axes[i, 1].set_title(f\"Boxplot of {col}\")\n",
    "\n",
    "plt.tight_layout()\n",
    "plt.show()\n",
    "\n",
    "# 3. Correlation Analysis\n",
    "# Correlation matrix of numeric columns\n",
    "#corr_matrix = datasource2[numeric_columns].corr()\n",
    "\n",
    "# Plot correlation matrix using heatmap\n",
    "#plt.figure(figsize=(12, 8))\n",
    "#sns.heatmap(corr_matrix, annot=True, cmap='coolwarm', fmt='.2f', linewidths=0.5)\n",
    "#plt.title('Correlation Matrix')\n",
    "#plt.show()\n",
    "\n",
    "# 4. Summary of Categorical Data (if applicable)\n",
    "# If you have categorical columns, you can check their distribution too\n",
    "# For example, assuming 'other infos' is categorical\n",
    "#if 'other infos' in datasource2.columns:\n",
    "#    print(\"\\n=== Categorical Data Distribution ===\")\n",
    "#    print(datasource2['other infos'].value_counts())"
   ]
  },
  {
   "cell_type": "code",
   "execution_count": null,
   "metadata": {},
   "outputs": [
    {
     "data": {
      "image/png": "[encoded data removed]",
      "text/plain": [
       "<Figure size 1000x1000 with 2 Axes>"
      ]
     },
     "metadata": {},
     "output_type": "display_data"
    }
   ],
   "source": [
    "import numpy as np\n",
    "import seaborn as sns \n",
    "import matplotlib.pyplot as plt\n",
    "\n",
    "features = datasource2[['Domin_freq_z','P-peak2peak', #'P-Vel amp (m/s)',\n",
    "       'P-Disp amp (m)', 'P-r', 'P-moment_history', 'P-tau_c', \"Mw\"\n",
    "       #,'S-peak2peak','S-Vel amp (m/s)','S-Disp amp (m)', 'S-r','S-moment_history', 'S-tau_c'\n",
    "       ,'RMS'\n",
    "       ,'Energy',\n",
    "       #, 'other infos', \n",
    "       \"sensed_n\"\n",
    "       ]]\n",
    "\n",
    "corr=np.abs(features.corr())\n",
    "\n",
    "#Set up mask for triangle representation\n",
    "mask = np.zeros_like(corr, dtype=bool)\n",
    "mask[np.triu_indices_from(mask)] = True\n",
    "\n",
    "# Set up the matplotlib figure\n",
    "f, ax = plt.subplots(figsize=(10, 10))\n",
    "# Generate a custom diverging colormap\n",
    "cmap = sns.diverging_palette(220, 10, as_cmap=True)\n",
    "# Draw the heatmap with the mask and correct aspect ratio\n",
    "sns.heatmap(corr, mask=mask,  vmax=1,square=True, linewidths=.5, cbar_kws={\"shrink\": .5},annot = corr)\n",
    "\n",
    "plt.show()\n",
    "\n"
   ]
  },
  {
   "cell_type": "code",
   "execution_count": 358,
   "metadata": {},
   "outputs": [],
   "source": [
    "## starting ML\n",
    "import pandas as pd\n",
    "import numpy as np\n",
    "\n",
    "import matplotlib.pyplot as plt\n",
    "import seaborn as sns\n",
    "\n",
    "from sklearn.model_selection import train_test_split\n",
    "from sklearn.tree import DecisionTreeRegressor, DecisionTreeClassifier\n",
    "from sklearn.ensemble import BaggingRegressor, RandomForestRegressor,AdaBoostRegressor, GradientBoostingRegressor\n",
    "from sklearn.ensemble import BaggingClassifier, RandomForestClassifier,AdaBoostClassifier, GradientBoostingClassifier\n",
    "from sklearn.linear_model import LinearRegression\n",
    "from sklearn.preprocessing import MinMaxScaler, StandardScaler\n",
    "from sklearn.metrics import r2_score, mean_absolute_error, root_mean_squared_error, precision_score, accuracy_score, recall_score\n",
    "\n",
    "from sklearn.model_selection import GridSearchCV, RandomizedSearchCV"
   ]
  },
  {
   "cell_type": "code",
   "execution_count": 359,
   "metadata": {},
   "outputs": [],
   "source": [
    "features = features.drop(\"sensed_n\", axis=1)\n",
    "X_train, X_test, y_train, y_test = train_test_split(features, target, test_size=0.20)\n",
    "y_test = np.array(y_test).ravel()"
   ]
  },
  {
   "cell_type": "code",
   "execution_count": 270,
   "metadata": {},
   "outputs": [],
   "source": [
    "# Normalize only the numerical features\n",
    "normalizer = MinMaxScaler()\n",
    "normalizer.fit(X_train)\n",
    "\n",
    "# Transform the numerical features\n",
    "X_train_norm = normalizer.transform(X_train)\n",
    "X_test_norm = normalizer.transform(X_test)\n",
    "\n",
    "# Convert to DataFrame, keeping the original indices\n",
    "X_train_norm = pd.DataFrame(X_train_norm, columns=X_train.columns)\n",
    "X_test_norm = pd.DataFrame(X_test_norm, columns=X_test.columns)"
   ]
  },
  {
   "cell_type": "code",
   "execution_count": 363,
   "metadata": {},
   "outputs": [
    {
     "name": "stdout",
     "output_type": "stream",
     "text": [
      "MAE 0.0074246958120308595\n",
      "RMSE 0.04917414056038437\n",
      "R2 score -0.0010976545042007402\n"
     ]
    }
   ],
   "source": [
    "linear_reg = LinearRegression()\n",
    "linear_reg.fit(X_train_norm, y_train)\n",
    "lin_pred = linear_reg.predict(X_test_norm)\n",
    "\n",
    "print(\"MAE\", mean_absolute_error(lin_pred, y_test))\n",
    "print(\"RMSE\", root_mean_squared_error(lin_pred, y_test))\n",
    "print(\"R2 score\", linear_reg.score(X_test_norm, y_test))"
   ]
  },
  {
   "cell_type": "code",
   "execution_count": 364,
   "metadata": {},
   "outputs": [
    {
     "data": {
      "image/png": "[encoded data removed]",
      "text/plain": [
       "<Figure size 1000x600 with 1 Axes>"
      ]
     },
     "metadata": {},
     "output_type": "display_data"
    }
   ],
   "source": [
    "# Create the scatter plot\n",
    "plt.figure(figsize=(10, 6))\n",
    "plt.scatter(y_test, lin_pred, color='b', alpha=0.6)\n",
    "\n",
    "# Adding a diagonal line for reference\n",
    "plt.plot([y_test.min(), y_test.max()], [y_test.min(), y_test.max()], color='r', linestyle='--')\n",
    "\n",
    "# Adding labels and title\n",
    "plt.xlabel('Actual Intensity (y_test)')\n",
    "plt.ylabel('Predicted Intensity (pred)')\n",
    "plt.title('Predicted vs Actual Intensity')\n",
    "\n",
    "# Show grid\n",
    "plt.grid()\n",
    "\n",
    "# Show the plot\n",
    "plt.show()"
   ]
  },
  {
   "cell_type": "code",
   "execution_count": 365,
   "metadata": {},
   "outputs": [],
   "source": [
    "X_train, X_test, y_train, y_test = train_test_split(features, target, test_size=0.20)\n",
    "\n",
    "y_train = np.array(y_train).ravel()\n",
    "y_test = np.array(y_test).ravel()"
   ]
  },
  {
   "cell_type": "code",
   "execution_count": 402,
   "metadata": {},
   "outputs": [],
   "source": [
    "from sklearn.preprocessing import MinMaxScaler, StandardScaler\n",
    "\n",
    "# Normalize only the numerical features\n",
    "normalizer = MinMaxScaler()\n",
    "normalizer.fit(X_train)\n",
    "\n",
    "# Transform the numerical features\n",
    "X_train_norm = normalizer.transform(X_train)\n",
    "X_test_norm = normalizer.transform(X_test)\n",
    "\n",
    "# Convert to DataFrame, keeping the original indices\n",
    "X_train_norm = pd.DataFrame(X_train_norm, columns=X_train.columns)\n",
    "X_test_norm = pd.DataFrame(X_test_norm, columns=X_test.columns)\n",
    "X_test_norm_indexed = pd.DataFrame(normalizer.transform(X_test), columns=X_test.columns, index=X_test.index)"
   ]
  },
  {
   "cell_type": "code",
   "execution_count": 367,
   "metadata": {},
   "outputs": [],
   "source": [
    "## resampling\n",
    "train = pd.DataFrame(X_train_norm, columns=X_train.columns)\n",
    "train[\"sensed_n\"] = y_train\n",
    "\n",
    "sensed_df = train[train[\"sensed_n\"]==1]\n",
    "not_sensed_df = train[train[\"sensed_n\"]==0]"
   ]
  },
  {
   "cell_type": "code",
   "execution_count": 368,
   "metadata": {},
   "outputs": [],
   "source": [
    "from sklearn.utils import resample\n",
    "\n",
    "fraud_df_oversampled = resample(sensed_df, n_samples=len(not_sensed_df), replace=True)\n",
    "train_oversampled = pd.concat([fraud_df_oversampled, not_sensed_df])"
   ]
  },
  {
   "cell_type": "code",
   "execution_count": 369,
   "metadata": {},
   "outputs": [],
   "source": [
    "y_train_over = train_oversampled[\"sensed_n\"]\n",
    "X_train_over = train_oversampled.drop(columns=\"sensed_n\")\n",
    "\n",
    "y_train_over = np.array(y_train_over).ravel() "
   ]
  },
  {
   "cell_type": "code",
   "execution_count": 378,
   "metadata": {},
   "outputs": [
    {
     "name": "stdout",
     "output_type": "stream",
     "text": [
      "Accuracy: 0.993543179983858\n",
      "Precision: 0.0\n",
      "Recall: 0.0\n"
     ]
    }
   ],
   "source": [
    "gb_reg = GradientBoostingClassifier(max_depth=20,\n",
    "                                   n_estimators=200)\n",
    "gb_reg.fit(X_train_over, y_train_over)\n",
    "gb_pred = gb_reg.predict(X_test_norm)\n",
    "\n",
    "precision = precision_score(y_test, gb_pred)\n",
    "accuracy = accuracy_score(y_test, gb_pred)\n",
    "recall = recall_score(y_test, gb_pred)\n",
    "\n",
    "print(\"Accuracy:\", accuracy)\n",
    "print(\"Precision:\", precision)\n",
    "print(\"Recall:\", recall)"
   ]
  },
  {
   "cell_type": "code",
   "execution_count": 376,
   "metadata": {},
   "outputs": [
    {
     "name": "stdout",
     "output_type": "stream",
     "text": [
      "Accuracy: 0.9931396287328491\n",
      "Precision: 0.0\n",
      "Recall: 0.0\n"
     ]
    },
    {
     "name": "stderr",
     "output_type": "stream",
     "text": [
      "c:\\Users\\Utilizador\\Desktop\\IRONHACK\\.venv\\Lib\\site-packages\\sklearn\\ensemble\\_weight_boosting.py:527: FutureWarning: The SAMME.R algorithm (the default) is deprecated and will be removed in 1.6. Use the SAMME algorithm to circumvent this warning.\n",
      "  warnings.warn(\n"
     ]
    }
   ],
   "source": [
    "ada_reg = AdaBoostClassifier(DecisionTreeClassifier(max_depth=20),\n",
    "                            n_estimators=200)\n",
    "\n",
    "ada_reg.fit(X_train_over, y_train_over)\n",
    "ada_pred = ada_reg.predict(X_test_norm)\n",
    "\n",
    "precision = precision_score(y_test, ada_pred)\n",
    "accuracy = accuracy_score(y_test, ada_pred)\n",
    "recall = recall_score(y_test, ada_pred)\n",
    "\n",
    "print(\"Accuracy:\", accuracy)\n",
    "print(\"Precision:\", precision)\n",
    "print(\"Recall:\", recall)"
   ]
  },
  {
   "cell_type": "code",
   "execution_count": 377,
   "metadata": {},
   "outputs": [
    {
     "name": "stdout",
     "output_type": "stream",
     "text": [
      "Accuracy: 0.9963680387409201\n",
      "Precision: 0.0\n",
      "Recall: 0.0\n"
     ]
    }
   ],
   "source": [
    "forest = RandomForestClassifier(n_estimators=200, max_depth=20)\n",
    "forest.fit(X_train_over, y_train_over)\n",
    "forest_pred = forest.predict(X_test_norm)\n",
    "\n",
    "precision = precision_score(y_test, forest_pred)\n",
    "accuracy = accuracy_score(y_test, forest_pred)\n",
    "recall = recall_score(y_test, forest_pred)\n",
    "\n",
    "print(\"Accuracy:\", accuracy)\n",
    "print(\"Precision:\", precision)\n",
    "print(\"Recall:\", recall)"
   ]
  },
  {
   "cell_type": "code",
   "execution_count": 189,
   "metadata": {},
   "outputs": [
    {
     "name": "stdout",
     "output_type": "stream",
     "text": [
      "Accuracy: 0.9733656174334141\n",
      "Precision: 0.03333333333333333\n",
      "Recall: 0.2\n"
     ]
    }
   ],
   "source": [
    "bagging_reg = BaggingClassifier(DecisionTreeClassifier(max_depth=20),                               \n",
    "                               n_estimators=200,\n",
    "                               max_samples = 1000,\n",
    "                               #bootstrap = False,\n",
    "                               n_jobs=-1\n",
    "                               )\n",
    "\n",
    "bagging_reg.fit(X_train_over, y_train_over)\n",
    "bag_pred = bagging_reg.predict(X_test_norm)\n",
    "\n",
    "precision = precision_score(y_test, bag_pred)\n",
    "accuracy = accuracy_score(y_test, bag_pred)\n",
    "recall = recall_score(y_test, bag_pred)\n",
    "\n",
    "print(\"Accuracy:\", accuracy)\n",
    "print(\"Precision:\", precision)\n",
    "print(\"Recall:\", recall)"
   ]
  },
  {
   "cell_type": "code",
   "execution_count": 190,
   "metadata": {},
   "outputs": [
    {
     "data": {
      "text/plain": [
       "{'estimator__max_depth': 10,\n",
       " 'estimator__max_leaf_nodes': 250,\n",
       " 'n_estimators': 250}"
      ]
     },
     "execution_count": 190,
     "metadata": {},
     "output_type": "execute_result"
    }
   ],
   "source": [
    "grid = {\"n_estimators\": [250, 500, 750],\n",
    "        \"estimator__max_leaf_nodes\": [150, 180, 250],\n",
    "        \"estimator__max_depth\":[5,10]}\n",
    "\n",
    "bagging_reg = BaggingClassifier(DecisionTreeClassifier())\n",
    "\n",
    "model = GridSearchCV(estimator = bagging_reg, param_grid = grid, cv=5, n_jobs=-1)\n",
    "model.fit(X_train_over, y_train_over)\n",
    "model.best_params_"
   ]
  },
  {
   "cell_type": "code",
   "execution_count": 191,
   "metadata": {},
   "outputs": [],
   "source": [
    "best_model = model.best_estimator_"
   ]
  },
  {
   "cell_type": "code",
   "execution_count": 192,
   "metadata": {},
   "outputs": [
    {
     "name": "stdout",
     "output_type": "stream",
     "text": [
      "Accuracy: 0.9487489911218725\n",
      "Precision: 0.01652892561983471\n",
      "Recall: 0.2\n"
     ]
    }
   ],
   "source": [
    "model_pred = best_model.predict(X_test_norm)\n",
    "\n",
    "precision = precision_score(y_test, model_pred)\n",
    "accuracy = accuracy_score(y_test, model_pred)\n",
    "recall = recall_score(y_test, model_pred)\n",
    "\n",
    "print(\"Accuracy:\", accuracy)\n",
    "print(\"Precision:\", precision)\n",
    "print(\"Recall:\", recall)"
   ]
  },
  {
   "cell_type": "code",
   "execution_count": 379,
   "metadata": {},
   "outputs": [],
   "source": [
    "from imblearn.over_sampling import SMOTE\n",
    "\n",
    "smote = SMOTE()\n",
    "X_train_sm, y_train_sm = smote.fit_resample(X_train_norm, y_train)\n",
    "\n",
    "y_train_sm = y_train_sm.ravel()\n"
   ]
  },
  {
   "cell_type": "code",
   "execution_count": 380,
   "metadata": {},
   "outputs": [
    {
     "data": {
      "text/plain": [
       "{'estimator__max_depth': 40,\n",
       " 'estimator__max_leaf_nodes': 500,\n",
       " 'n_estimators': 320}"
      ]
     },
     "execution_count": 380,
     "metadata": {},
     "output_type": "execute_result"
    }
   ],
   "source": [
    "grid = {\"n_estimators\": [250, 320, 500, 750],\n",
    "        \"estimator__max_leaf_nodes\": [200, 400, 500, 650],\n",
    "        \"estimator__max_depth\":[10, 20,30,40]}\n",
    "\n",
    "bagging_reg = BaggingClassifier(estimator=DecisionTreeClassifier(class_weight='balanced'))\n",
    "\n",
    "model = GridSearchCV(estimator = bagging_reg, param_grid = grid, cv=5, n_jobs=-1)#, scoring='recall')\n",
    "model.fit(X_train_sm, y_train_sm)\n",
    "model.best_params_"
   ]
  },
  {
   "cell_type": "code",
   "execution_count": 381,
   "metadata": {},
   "outputs": [
    {
     "name": "stdout",
     "output_type": "stream",
     "text": [
      "Accuracy: 0.976594027441485\n",
      "Precision: 0.0\n",
      "Recall: 0.0\n"
     ]
    }
   ],
   "source": [
    "best_model = model.best_estimator_\n",
    "model_pred = best_model.predict(X_test_norm)\n",
    "\n",
    "precision = precision_score(y_test, model_pred)\n",
    "accuracy = accuracy_score(y_test, model_pred)\n",
    "recall = recall_score(y_test, model_pred)\n",
    "\n",
    "print(\"Accuracy:\", accuracy)\n",
    "print(\"Precision:\", precision)\n",
    "print(\"Recall:\", recall)"
   ]
  },
  {
   "cell_type": "code",
   "execution_count": 382,
   "metadata": {},
   "outputs": [
    {
     "name": "stdout",
     "output_type": "stream",
     "text": [
      "Accuracy: 0.7348668280871671\n",
      "Precision: 0.007587253414264037\n",
      "Recall: 0.625\n"
     ]
    }
   ],
   "source": [
    "from sklearn.metrics import precision_recall_curve\n",
    "\n",
    "# Predict probabilities with the best model\n",
    "y_prob = model.best_estimator_.predict_proba(X_test_norm)[:, 1]  # Probabilities for the positive class\n",
    "\n",
    "# Set a custom threshold\n",
    "custom_threshold = 0.01  # For example, set to 0.3 to increase recall\n",
    "\n",
    "# Make predictions based on the custom threshold\n",
    "y_pred_custom_threshold = (y_prob >= custom_threshold).astype(int)\n",
    "\n",
    "\n",
    "precision = precision_score(y_test, y_pred_custom_threshold)\n",
    "accuracy = accuracy_score(y_test, y_pred_custom_threshold)\n",
    "recall = recall_score(y_test, y_pred_custom_threshold)\n",
    "\n",
    "print(\"Accuracy:\", accuracy)\n",
    "print(\"Precision:\", precision)\n",
    "print(\"Recall:\", recall)"
   ]
  },
  {
   "cell_type": "code",
   "execution_count": 332,
   "metadata": {},
   "outputs": [
    {
     "name": "stdout",
     "output_type": "stream",
     "text": [
      "Accuracy: 0.7062146892655368\n",
      "Precision: 0.012345679012345678\n",
      "Recall: 0.5294117647058824\n"
     ]
    }
   ],
   "source": [
    "from sklearn.metrics import precision_recall_curve\n",
    "\n",
    "# Predict probabilities with the best model\n",
    "y_prob = model.best_estimator_.predict_proba(X_test_norm)[:, 1]  # Probabilities for the positive class\n",
    "\n",
    "# Set a custom threshold\n",
    "custom_threshold = 0.001  # For example, set to 0.3 to increase recall\n",
    "\n",
    "# Make predictions based on the custom threshold\n",
    "y_pred_custom_threshold = (y_prob >= custom_threshold).astype(int)\n",
    "\n",
    "\n",
    "precision = precision_score(y_test, y_pred_custom_threshold)\n",
    "accuracy = accuracy_score(y_test, y_pred_custom_threshold)\n",
    "recall = recall_score(y_test, y_pred_custom_threshold)\n",
    "\n",
    "print(\"Accuracy:\", accuracy)\n",
    "print(\"Precision:\", precision)\n",
    "print(\"Recall:\", recall)"
   ]
  },
  {
   "cell_type": "code",
   "execution_count": 384,
   "metadata": {},
   "outputs": [
    {
     "name": "stdout",
     "output_type": "stream",
     "text": [
      "True Negatives (TN): 1816\n",
      "False Positives (FP): 654\n",
      "False Negatives (FN): 3\n",
      "True Positives (TP): 5\n"
     ]
    }
   ],
   "source": [
    "from sklearn.metrics import confusion_matrix\n",
    "\n",
    "cm = confusion_matrix(y_test, y_pred_custom_threshold)\n",
    "\n",
    "# Extract values\n",
    "TN, FP, FN, TP = cm.ravel()\n",
    "\n",
    "# Print the values\n",
    "print(f\"True Negatives (TN): {TN}\")\n",
    "print(f\"False Positives (FP): {FP}\")\n",
    "print(f\"False Negatives (FN): {FN}\")\n",
    "print(f\"True Positives (TP): {TP}\")"
   ]
  },
  {
   "cell_type": "code",
   "execution_count": null,
   "metadata": {},
   "outputs": [
    {
     "data": {
      "text/plain": [
       "['est_model_FINAL.pkl']"
      ]
     },
     "execution_count": 387,
     "metadata": {},
     "output_type": "execute_result"
    }
   ],
   "source": [
    "# Specify the save folder\n",
    "current_dir = os.getcwd()\n",
    "root_dir = os.path.abspath(os.path.join(current_dir, '..', '..'))\n",
    "directory_path = os.path.join(root_dir, 'models')\n",
    "os.makedirs(directory_path, exist_ok=True)\n",
    "model_path = os.path.join(directory_path, \"model_FINAL.pkl\")\n",
    "est_path = os.path.join(directory_path, \"est_model_FINAL.pkl\")\n",
    "\n",
    "# Assuming `model` is your trained model\n",
    "#joblib.dump(model, model_path)\n",
    "#joblib.dump(model, est_path)"
   ]
  },
  {
   "cell_type": "code",
   "execution_count": 430,
   "metadata": {},
   "outputs": [
    {
     "data": {
      "text/plain": [
       "sensed_n\n",
       "0           12333\n",
       "1              56\n",
       "Name: count, dtype: int64"
      ]
     },
     "execution_count": 430,
     "metadata": {},
     "output_type": "execute_result"
    }
   ],
   "source": [
    "datasource2[[\"sensed_n\"]].value_counts()"
   ]
  },
  {
   "cell_type": "code",
   "execution_count": 486,
   "metadata": {},
   "outputs": [
    {
     "name": "stdout",
     "output_type": "stream",
     "text": [
      "Index([14653, 18187, 19132, 18082, 5359], dtype='int64', name='index')\n"
     ]
    },
    {
     "data": {
      "text/plain": [
       "index                                 21070\n",
       "datetime            2018-08-07T06:34:36.400\n",
       "lat                                41.686°N\n",
       "lon                                08.450°W\n",
       "depth                                  16.0\n",
       "mag                                     3.2\n",
       "Rms                                     0.3\n",
       "Int                                      IV\n",
       "sensed                                    1\n",
       "lat_decimal                          41.686\n",
       "lon_decimal                           -8.45\n",
       "dist_MORF                        487.530283\n",
       "Domin_freq_z                            4.8\n",
       "Domin_freq_n                           -4.8\n",
       "Domin_freq_e                         -4.825\n",
       "P-peak2peak                        0.106667\n",
       "P-Vel amp (m/s)                         0.0\n",
       "P-Disp amp (m)                          0.0\n",
       "P-r                                0.000004\n",
       "P-moment_history                        0.0\n",
       "P-tau_c                         3132.165204\n",
       "S-peak2peak                        0.106667\n",
       "S-Vel amp (m/s)                         0.0\n",
       "RMS                                     0.0\n",
       "S-Disp amp (m)                          0.0\n",
       "S-r                                     0.0\n",
       "Energy                                  0.0\n",
       "S-moment_history                        0.0\n",
       "peak_freq                               4.8\n",
       "S-tau_c                        11936.048723\n",
       "wavelength                           1250.0\n",
       "other infos                    11936.048723\n",
       "peak_disp                               0.0\n",
       "M0                         238010077.021164\n",
       "num_int                                 4.0\n",
       "Name: 21070, dtype: object"
      ]
     },
     "execution_count": 486,
     "metadata": {},
     "output_type": "execute_result"
    }
   ],
   "source": [
    "check = pd.DataFrame()\n",
    "check[\"test\"] = y_test\n",
    "check[\"pred\"] = y_pred_custom_threshold\n",
    "check = pd.concat([check, X_test_norm], axis = 1)\n",
    "X_test_norm_indexed = pd.DataFrame(normalizer.transform(X_test), columns=X_test.columns, index=X_test.index)\n",
    "X_test_norm_indexed = X_test_norm_indexed.merge(X_test, how=\"outer\", left_index=True, right_index=True)\n",
    "X_test_norm_indexed_reset = X_test_norm_indexed.reset_index().rename(columns={\"Energy_x\": \"Energy\"})\n",
    "check2 = check.merge(right=X_test_norm_indexed_reset,how=\"outer\", on=\"Energy\")\n",
    "check2.set_index('index', inplace=True)\n",
    "print(check2[(check2[\"pred\"]==1)&(check2[\"test\"]==1)].index)\n",
    "datasource.loc[21070]"
   ]
  },
  {
   "cell_type": "code",
   "execution_count": 455,
   "metadata": {},
   "outputs": [
    {
     "name": "stdout",
     "output_type": "stream",
     "text": [
      "2455\n"
     ]
    }
   ],
   "source": []
  },
  {
   "cell_type": "code",
   "execution_count": 204,
   "metadata": {},
   "outputs": [
    {
     "data": {
      "text/plain": [
       "array([ 198,  767,  977, 1239, 2367])"
      ]
     },
     "metadata": {},
     "output_type": "display_data"
    },
    {
     "name": "stdout",
     "output_type": "stream",
     "text": [
      "y_test[1952]: 1\n",
      "X_test[1952]: Domin_freq_z        0.649150\n",
      "Domin_freq_n        0.288474\n",
      "Domin_freq_e        0.400745\n",
      "P-peak2peak         0.421488\n",
      "P-Vel amp (m/s)     0.000451\n",
      "P-Disp amp (m)      0.000372\n",
      "P-r                 0.000045\n",
      "P-moment_history    0.268885\n",
      "P-tau_c             0.210734\n",
      "RMS                 0.006733\n",
      "Energy              0.000047\n",
      "peak_freq           0.649150\n",
      "wavelength          0.090349\n",
      "other infos         0.001609\n",
      "peak_disp           0.181079\n",
      "M0                  0.181079\n",
      "Mw                  0.762448\n",
      "Name: 1239, dtype: float64\n"
     ]
    }
   ],
   "source": [
    "false_negatives_indices = np.where((y_test == 1) & (y_pred_custom_threshold == 0))[0]\n",
    "display(false_negatives_indices)\n",
    "datasource2.iloc[1239]\n",
    "print(f\"y_test[1952]: {y_test[1239]}\")\n",
    "print(f\"X_test[1952]: {X_test_norm.iloc[1239]}\")"
   ]
  },
  {
   "cell_type": "markdown",
   "metadata": {},
   "source": [
    "Accuracy: 0.7978208232445521\n",
    "Precision: 0.011928429423459244\n",
    "Recall: 0.6"
   ]
  },
  {
   "cell_type": "code",
   "execution_count": 206,
   "metadata": {},
   "outputs": [
    {
     "name": "stderr",
     "output_type": "stream",
     "text": [
      "c:\\Users\\Utilizador\\Desktop\\IRONHACK\\.venv\\Lib\\site-packages\\numpy\\ma\\core.py:2881: RuntimeWarning: invalid value encountered in cast\n",
      "  _data = np.array(data, dtype=dtype, copy=copy,\n"
     ]
    },
    {
     "name": "stdout",
     "output_type": "stream",
     "text": [
      "Best parameters for BalancedBaggingClassifier: {'estimator__max_depth': 30, 'max_features': 0.3, 'max_samples': 0.8, 'n_estimators': 500}\n",
      "Accuracy: 0.9895076674737692\n",
      "Precision: 0.05555555555555555\n",
      "Recall: 0.1\n"
     ]
    }
   ],
   "source": [
    "from sklearn.tree import DecisionTreeClassifier\n",
    "from sklearn.ensemble import StackingClassifier, BaggingClassifier, RandomForestClassifier, GradientBoostingClassifier\n",
    "from sklearn.linear_model import LogisticRegression\n",
    "from imblearn.ensemble import BalancedBaggingClassifier\n",
    "\n",
    "# Define grid for BalancedBaggingClassifier\n",
    "param_grid = {\n",
    "    'n_estimators': [100, 250, 500, 1000],\n",
    "    'max_samples': [0.5, 0.75, 0.8],\n",
    "    'max_features': [0.3, 0.5, 0.75],\n",
    "    'estimator__max_depth': [10, 20, 30 , 50]  # Depth of the Decision Tree estimator\n",
    "}\n",
    "\n",
    "# Initialize the classifier\n",
    "bagging = BaggingClassifier(estimator=DecisionTreeClassifier(class_weight='balanced'))\n",
    "\n",
    "# Run grid search\n",
    "grid_search = GridSearchCV(bagging, param_grid, cv=5, n_jobs=-1)\n",
    "grid_search.fit(X_train_sm, y_train_sm)\n",
    "\n",
    "# Retrieve best parameters and use them in the stacking model\n",
    "best_params = grid_search.best_params_\n",
    "print(\"Best parameters for BalancedBaggingClassifier:\", best_params)\n",
    "\n",
    "# Define base models\n",
    "base_models = [\n",
    "    ('bagging', BaggingClassifier(\n",
    "        estimator=DecisionTreeClassifier(class_weight='balanced'),\n",
    "        n_estimators=best_params['n_estimators'],\n",
    "        max_samples=best_params['max_samples'],\n",
    "        max_features=best_params['max_features']\n",
    "    )),\n",
    "    ('random_forest', RandomForestClassifier(class_weight='balanced', n_estimators=best_params['n_estimators'])),\n",
    "    ('gradient_boosting', GradientBoostingClassifier(n_estimators=best_params['n_estimators']))\n",
    "]\n",
    "\n",
    "# Define the stacking model with a meta-classifier\n",
    "stacking_model = StackingClassifier(\n",
    "    estimators=base_models,\n",
    "    final_estimator=LogisticRegression(class_weight='balanced'),\n",
    "    cv=5,\n",
    "    n_jobs=-1\n",
    ")\n",
    "\n",
    "# Train the stacking model on the oversampled data\n",
    "stacking_model.fit(X_train_sm, y_train_sm)\n",
    "\n",
    "# Predict with the custom threshold on the stacking model\n",
    "y_prob_stack = stacking_model.predict_proba(X_test_norm)[:, 1]  # Positive class probabilities\n",
    "custom_threshold = 0.05  # Example threshold\n",
    "y_pred_stack_custom_threshold = (y_prob_stack >= custom_threshold).astype(int)\n",
    "\n",
    "precision = precision_score(y_test, y_pred_stack_custom_threshold ,zero_division=1)\n",
    "accuracy = accuracy_score(y_test, y_pred_stack_custom_threshold)\n",
    "recall = recall_score(y_test, y_pred_stack_custom_threshold)\n",
    "\n",
    "print(\"Accuracy:\", accuracy)\n",
    "print(\"Precision:\", precision)\n",
    "print(\"Recall:\", recall)"
   ]
  },
  {
   "cell_type": "code",
   "execution_count": 207,
   "metadata": {},
   "outputs": [
    {
     "name": "stderr",
     "output_type": "stream",
     "text": [
      "c:\\Users\\Utilizador\\Desktop\\IRONHACK\\.venv\\Lib\\site-packages\\imblearn\\ensemble\\_forest.py:577: FutureWarning: The default of `sampling_strategy` will change from `'auto'` to `'all'` in version 0.13. This change will follow the implementation proposed in the original paper. Set to `'all'` to silence this warning and adopt the future behaviour.\n",
      "  warn(\n",
      "c:\\Users\\Utilizador\\Desktop\\IRONHACK\\.venv\\Lib\\site-packages\\imblearn\\ensemble\\_forest.py:589: FutureWarning: The default of `replacement` will change from `False` to `True` in version 0.13. This change will follow the implementation proposed in the original paper. Set to `True` to silence this warning and adopt the future behaviour.\n",
      "  warn(\n",
      "c:\\Users\\Utilizador\\Desktop\\IRONHACK\\.venv\\Lib\\site-packages\\imblearn\\ensemble\\_forest.py:601: FutureWarning: The default of `bootstrap` will change from `True` to `False` in version 0.13. This change will follow the implementation proposed in the original paper. Set to `False` to silence this warning and adopt the future behaviour.\n",
      "  warn(\n",
      "c:\\Users\\Utilizador\\Desktop\\IRONHACK\\.venv\\Lib\\site-packages\\xgboost\\core.py:158: UserWarning: [14:15:12] WARNING: C:\\buildkite-agent\\builds\\buildkite-windows-cpu-autoscaling-group-i-0ed59c031377d09b8-1\\xgboost\\xgboost-ci-windows\\src\\learner.cc:740: \n",
      "Parameters: { \"use_label_encoder\" } are not used.\n",
      "\n",
      "  warnings.warn(smsg, UserWarning)\n"
     ]
    },
    {
     "name": "stdout",
     "output_type": "stream",
     "text": [
      "[LightGBM] [Warning] Found whitespace in feature_names, replace with underlines\n",
      "[LightGBM] [Info] Number of positive: 9865, number of negative: 9865\n",
      "[LightGBM] [Info] Auto-choosing col-wise multi-threading, the overhead of testing was 0.001116 seconds.\n",
      "You can set `force_col_wise=true` to remove the overhead.\n",
      "[LightGBM] [Info] Total Bins 4335\n",
      "[LightGBM] [Info] Number of data points in the train set: 19730, number of used features: 17\n",
      "[LightGBM] [Info] [binary:BoostFromScore]: pavg=0.937500 -> initscore=2.708050\n",
      "[LightGBM] [Info] Start training from score 2.708050\n"
     ]
    },
    {
     "name": "stderr",
     "output_type": "stream",
     "text": [
      "c:\\Users\\Utilizador\\Desktop\\IRONHACK\\.venv\\Lib\\site-packages\\imblearn\\ensemble\\_forest.py:577: FutureWarning: The default of `sampling_strategy` will change from `'auto'` to `'all'` in version 0.13. This change will follow the implementation proposed in the original paper. Set to `'all'` to silence this warning and adopt the future behaviour.\n",
      "  warn(\n",
      "c:\\Users\\Utilizador\\Desktop\\IRONHACK\\.venv\\Lib\\site-packages\\imblearn\\ensemble\\_forest.py:589: FutureWarning: The default of `replacement` will change from `False` to `True` in version 0.13. This change will follow the implementation proposed in the original paper. Set to `True` to silence this warning and adopt the future behaviour.\n",
      "  warn(\n",
      "c:\\Users\\Utilizador\\Desktop\\IRONHACK\\.venv\\Lib\\site-packages\\imblearn\\ensemble\\_forest.py:601: FutureWarning: The default of `bootstrap` will change from `True` to `False` in version 0.13. This change will follow the implementation proposed in the original paper. Set to `False` to silence this warning and adopt the future behaviour.\n",
      "  warn(\n",
      "c:\\Users\\Utilizador\\Desktop\\IRONHACK\\.venv\\Lib\\site-packages\\imblearn\\ensemble\\_forest.py:577: FutureWarning: The default of `sampling_strategy` will change from `'auto'` to `'all'` in version 0.13. This change will follow the implementation proposed in the original paper. Set to `'all'` to silence this warning and adopt the future behaviour.\n",
      "  warn(\n",
      "c:\\Users\\Utilizador\\Desktop\\IRONHACK\\.venv\\Lib\\site-packages\\imblearn\\ensemble\\_forest.py:589: FutureWarning: The default of `replacement` will change from `False` to `True` in version 0.13. This change will follow the implementation proposed in the original paper. Set to `True` to silence this warning and adopt the future behaviour.\n",
      "  warn(\n",
      "c:\\Users\\Utilizador\\Desktop\\IRONHACK\\.venv\\Lib\\site-packages\\imblearn\\ensemble\\_forest.py:601: FutureWarning: The default of `bootstrap` will change from `True` to `False` in version 0.13. This change will follow the implementation proposed in the original paper. Set to `False` to silence this warning and adopt the future behaviour.\n",
      "  warn(\n",
      "c:\\Users\\Utilizador\\Desktop\\IRONHACK\\.venv\\Lib\\site-packages\\imblearn\\ensemble\\_forest.py:577: FutureWarning: The default of `sampling_strategy` will change from `'auto'` to `'all'` in version 0.13. This change will follow the implementation proposed in the original paper. Set to `'all'` to silence this warning and adopt the future behaviour.\n",
      "  warn(\n",
      "c:\\Users\\Utilizador\\Desktop\\IRONHACK\\.venv\\Lib\\site-packages\\imblearn\\ensemble\\_forest.py:589: FutureWarning: The default of `replacement` will change from `False` to `True` in version 0.13. This change will follow the implementation proposed in the original paper. Set to `True` to silence this warning and adopt the future behaviour.\n",
      "  warn(\n",
      "c:\\Users\\Utilizador\\Desktop\\IRONHACK\\.venv\\Lib\\site-packages\\imblearn\\ensemble\\_forest.py:601: FutureWarning: The default of `bootstrap` will change from `True` to `False` in version 0.13. This change will follow the implementation proposed in the original paper. Set to `False` to silence this warning and adopt the future behaviour.\n",
      "  warn(\n",
      "c:\\Users\\Utilizador\\Desktop\\IRONHACK\\.venv\\Lib\\site-packages\\imblearn\\ensemble\\_forest.py:577: FutureWarning: The default of `sampling_strategy` will change from `'auto'` to `'all'` in version 0.13. This change will follow the implementation proposed in the original paper. Set to `'all'` to silence this warning and adopt the future behaviour.\n",
      "  warn(\n",
      "c:\\Users\\Utilizador\\Desktop\\IRONHACK\\.venv\\Lib\\site-packages\\imblearn\\ensemble\\_forest.py:589: FutureWarning: The default of `replacement` will change from `False` to `True` in version 0.13. This change will follow the implementation proposed in the original paper. Set to `True` to silence this warning and adopt the future behaviour.\n",
      "  warn(\n",
      "c:\\Users\\Utilizador\\Desktop\\IRONHACK\\.venv\\Lib\\site-packages\\imblearn\\ensemble\\_forest.py:601: FutureWarning: The default of `bootstrap` will change from `True` to `False` in version 0.13. This change will follow the implementation proposed in the original paper. Set to `False` to silence this warning and adopt the future behaviour.\n",
      "  warn(\n",
      "c:\\Users\\Utilizador\\Desktop\\IRONHACK\\.venv\\Lib\\site-packages\\imblearn\\ensemble\\_forest.py:577: FutureWarning: The default of `sampling_strategy` will change from `'auto'` to `'all'` in version 0.13. This change will follow the implementation proposed in the original paper. Set to `'all'` to silence this warning and adopt the future behaviour.\n",
      "  warn(\n",
      "c:\\Users\\Utilizador\\Desktop\\IRONHACK\\.venv\\Lib\\site-packages\\imblearn\\ensemble\\_forest.py:589: FutureWarning: The default of `replacement` will change from `False` to `True` in version 0.13. This change will follow the implementation proposed in the original paper. Set to `True` to silence this warning and adopt the future behaviour.\n",
      "  warn(\n",
      "c:\\Users\\Utilizador\\Desktop\\IRONHACK\\.venv\\Lib\\site-packages\\imblearn\\ensemble\\_forest.py:601: FutureWarning: The default of `bootstrap` will change from `True` to `False` in version 0.13. This change will follow the implementation proposed in the original paper. Set to `False` to silence this warning and adopt the future behaviour.\n",
      "  warn(\n",
      "c:\\Users\\Utilizador\\Desktop\\IRONHACK\\.venv\\Lib\\site-packages\\xgboost\\core.py:158: UserWarning: [14:15:58] WARNING: C:\\buildkite-agent\\builds\\buildkite-windows-cpu-autoscaling-group-i-0ed59c031377d09b8-1\\xgboost\\xgboost-ci-windows\\src\\learner.cc:740: \n",
      "Parameters: { \"use_label_encoder\" } are not used.\n",
      "\n",
      "  warnings.warn(smsg, UserWarning)\n",
      "c:\\Users\\Utilizador\\Desktop\\IRONHACK\\.venv\\Lib\\site-packages\\xgboost\\core.py:158: UserWarning: [14:15:58] WARNING: C:\\buildkite-agent\\builds\\buildkite-windows-cpu-autoscaling-group-i-0ed59c031377d09b8-1\\xgboost\\xgboost-ci-windows\\src\\learner.cc:740: \n",
      "Parameters: { \"use_label_encoder\" } are not used.\n",
      "\n",
      "  warnings.warn(smsg, UserWarning)\n",
      "c:\\Users\\Utilizador\\Desktop\\IRONHACK\\.venv\\Lib\\site-packages\\xgboost\\core.py:158: UserWarning: [14:15:58] WARNING: C:\\buildkite-agent\\builds\\buildkite-windows-cpu-autoscaling-group-i-0ed59c031377d09b8-1\\xgboost\\xgboost-ci-windows\\src\\learner.cc:740: \n",
      "Parameters: { \"use_label_encoder\" } are not used.\n",
      "\n",
      "  warnings.warn(smsg, UserWarning)\n",
      "c:\\Users\\Utilizador\\Desktop\\IRONHACK\\.venv\\Lib\\site-packages\\xgboost\\core.py:158: UserWarning: [14:15:58] WARNING: C:\\buildkite-agent\\builds\\buildkite-windows-cpu-autoscaling-group-i-0ed59c031377d09b8-1\\xgboost\\xgboost-ci-windows\\src\\learner.cc:740: \n",
      "Parameters: { \"use_label_encoder\" } are not used.\n",
      "\n",
      "  warnings.warn(smsg, UserWarning)\n",
      "c:\\Users\\Utilizador\\Desktop\\IRONHACK\\.venv\\Lib\\site-packages\\xgboost\\core.py:158: UserWarning: [14:15:59] WARNING: C:\\buildkite-agent\\builds\\buildkite-windows-cpu-autoscaling-group-i-0ed59c031377d09b8-1\\xgboost\\xgboost-ci-windows\\src\\learner.cc:740: \n",
      "Parameters: { \"use_label_encoder\" } are not used.\n",
      "\n",
      "  warnings.warn(smsg, UserWarning)\n"
     ]
    },
    {
     "name": "stdout",
     "output_type": "stream",
     "text": [
      "[LightGBM] [Warning] Found whitespace in feature_names, replace with underlines\n",
      "[LightGBM] [Info] Number of positive: 7892, number of negative: 7892\n",
      "[LightGBM] [Info] Auto-choosing col-wise multi-threading, the overhead of testing was 0.001038 seconds.\n",
      "You can set `force_col_wise=true` to remove the overhead.\n",
      "[LightGBM] [Info] Total Bins 4335\n",
      "[LightGBM] [Info] Number of data points in the train set: 15784, number of used features: 17\n",
      "[LightGBM] [Info] [binary:BoostFromScore]: pavg=0.937500 -> initscore=2.708050\n",
      "[LightGBM] [Info] Start training from score 2.708050\n",
      "[LightGBM] [Warning] Found whitespace in feature_names, replace with underlines\n",
      "[LightGBM] [Info] Number of positive: 7892, number of negative: 7892\n",
      "[LightGBM] [Info] Auto-choosing col-wise multi-threading, the overhead of testing was 0.000849 seconds.\n",
      "You can set `force_col_wise=true` to remove the overhead.\n",
      "[LightGBM] [Info] Total Bins 4335\n",
      "[LightGBM] [Info] Number of data points in the train set: 15784, number of used features: 17\n",
      "[LightGBM] [Info] [binary:BoostFromScore]: pavg=0.937500 -> initscore=2.708050\n",
      "[LightGBM] [Info] Start training from score 2.708050\n",
      "[LightGBM] [Warning] Found whitespace in feature_names, replace with underlines\n",
      "[LightGBM] [Info] Number of positive: 7892, number of negative: 7892\n",
      "[LightGBM] [Info] Auto-choosing col-wise multi-threading, the overhead of testing was 0.000759 seconds.\n",
      "You can set `force_col_wise=true` to remove the overhead.\n",
      "[LightGBM] [Info] Total Bins 4335\n",
      "[LightGBM] [Info] Number of data points in the train set: 15784, number of used features: 17\n",
      "[LightGBM] [Info] [binary:BoostFromScore]: pavg=0.937500 -> initscore=2.708050\n",
      "[LightGBM] [Info] Start training from score 2.708050\n",
      "[LightGBM] [Warning] Found whitespace in feature_names, replace with underlines\n",
      "[LightGBM] [Info] Number of positive: 7892, number of negative: 7892\n",
      "[LightGBM] [Info] Auto-choosing col-wise multi-threading, the overhead of testing was 0.000771 seconds.\n",
      "You can set `force_col_wise=true` to remove the overhead.\n",
      "[LightGBM] [Info] Total Bins 4335\n",
      "[LightGBM] [Info] Number of data points in the train set: 15784, number of used features: 17\n",
      "[LightGBM] [Info] [binary:BoostFromScore]: pavg=0.937500 -> initscore=2.708050\n",
      "[LightGBM] [Info] Start training from score 2.708050\n",
      "[LightGBM] [Warning] Found whitespace in feature_names, replace with underlines\n",
      "[LightGBM] [Info] Number of positive: 7892, number of negative: 7892\n",
      "[LightGBM] [Info] Auto-choosing col-wise multi-threading, the overhead of testing was 0.000779 seconds.\n",
      "You can set `force_col_wise=true` to remove the overhead.\n",
      "[LightGBM] [Info] Total Bins 4335\n",
      "[LightGBM] [Info] Number of data points in the train set: 15784, number of used features: 17\n",
      "[LightGBM] [Info] [binary:BoostFromScore]: pavg=0.937500 -> initscore=2.708050\n",
      "[LightGBM] [Info] Start training from score 2.708050\n",
      "Accuracy: 0.9955609362389023\n",
      "Precision: 0.0\n",
      "Recall: 0.0\n"
     ]
    }
   ],
   "source": [
    "import xgboost as xgb\n",
    "import lightgbm as lgb\n",
    "from sklearn.metrics import accuracy_score, precision_score, recall_score, confusion_matrix\n",
    "from imblearn.over_sampling import SMOTE\n",
    "from sklearn.model_selection import train_test_split\n",
    "from sklearn.datasets import make_classification\n",
    "from imblearn.ensemble import BalancedRandomForestClassifier\n",
    "from sklearn.preprocessing import MinMaxScaler, StandardScaler\n",
    "\n",
    "# Define base models\n",
    "base_models = [\n",
    "    ('brf', BalancedRandomForestClassifier(n_estimators=150, max_depth=30, class_weight='balanced_subsample')),\n",
    "    ('xgb', xgb.XGBClassifier(scale_pos_weight=15, max_depth=7, min_child_weight=2, use_label_encoder=False, eval_metric='logloss')),\n",
    "    ('lgb', lgb.LGBMClassifier(class_weight={0: 1, 1: 15}, n_estimators=150, num_leaves=50))\n",
    "]\n",
    "\n",
    "## Define the stacking model with a logistic regression meta-classifier\n",
    "stacking_model = StackingClassifier(\n",
    "    estimators=base_models,\n",
    "    final_estimator=GradientBoostingClassifier(n_estimators=50, learning_rate=0.1, max_depth=5)\n",
    ")\n",
    "\n",
    "# Train the stacking model on the oversampled data\n",
    "stacking_model.fit(X_train_sm, y_train_sm)\n",
    "\n",
    "# Predict probabilities with the stacking model\n",
    "y_prob_stacking = stacking_model.predict_proba(X_test_norm)[:, 1]  # Probability for the positive class\n",
    "\n",
    "# Apply the custom threshold\n",
    "custom_threshold = 0.01\n",
    "y_pred_stack_custom_threshold = (y_prob_stacking >= custom_threshold).astype(int)\n",
    "\n",
    "# Convert y_test to 1D NumPy array\n",
    "y_test = np.array(y_test).ravel()  # or simply use y_test.values.ravel()\n",
    "\n",
    "# Evaluate the stacking model\n",
    "precision = precision_score(y_test, y_pred_stack_custom_threshold)\n",
    "accuracy = accuracy_score(y_test, y_pred_stack_custom_threshold)\n",
    "recall = recall_score(y_test, y_pred_stack_custom_threshold)\n",
    "\n",
    "print(\"Accuracy:\", accuracy)\n",
    "print(\"Precision:\", precision)\n",
    "print(\"Recall:\", recall)"
   ]
  },
  {
   "cell_type": "code",
   "execution_count": 208,
   "metadata": {},
   "outputs": [
    {
     "name": "stderr",
     "output_type": "stream",
     "text": [
      "c:\\Users\\Utilizador\\Desktop\\IRONHACK\\.venv\\Lib\\site-packages\\imblearn\\ensemble\\_forest.py:577: FutureWarning: The default of `sampling_strategy` will change from `'auto'` to `'all'` in version 0.13. This change will follow the implementation proposed in the original paper. Set to `'all'` to silence this warning and adopt the future behaviour.\n",
      "  warn(\n",
      "c:\\Users\\Utilizador\\Desktop\\IRONHACK\\.venv\\Lib\\site-packages\\imblearn\\ensemble\\_forest.py:589: FutureWarning: The default of `replacement` will change from `False` to `True` in version 0.13. This change will follow the implementation proposed in the original paper. Set to `True` to silence this warning and adopt the future behaviour.\n",
      "  warn(\n",
      "c:\\Users\\Utilizador\\Desktop\\IRONHACK\\.venv\\Lib\\site-packages\\imblearn\\ensemble\\_forest.py:601: FutureWarning: The default of `bootstrap` will change from `True` to `False` in version 0.13. This change will follow the implementation proposed in the original paper. Set to `False` to silence this warning and adopt the future behaviour.\n",
      "  warn(\n",
      "c:\\Users\\Utilizador\\Desktop\\IRONHACK\\.venv\\Lib\\site-packages\\xgboost\\core.py:158: UserWarning: [14:18:25] WARNING: C:\\buildkite-agent\\builds\\buildkite-windows-cpu-autoscaling-group-i-0ed59c031377d09b8-1\\xgboost\\xgboost-ci-windows\\src\\learner.cc:740: \n",
      "Parameters: { \"use_label_encoder\" } are not used.\n",
      "\n",
      "  warnings.warn(smsg, UserWarning)\n"
     ]
    },
    {
     "name": "stdout",
     "output_type": "stream",
     "text": [
      "[LightGBM] [Warning] Found whitespace in feature_names, replace with underlines\n",
      "[LightGBM] [Info] Number of positive: 9865, number of negative: 9865\n",
      "[LightGBM] [Info] Auto-choosing col-wise multi-threading, the overhead of testing was 0.001214 seconds.\n",
      "You can set `force_col_wise=true` to remove the overhead.\n",
      "[LightGBM] [Info] Total Bins 4335\n",
      "[LightGBM] [Info] Number of data points in the train set: 19730, number of used features: 17\n",
      "[LightGBM] [Info] [binary:BoostFromScore]: pavg=0.909091 -> initscore=2.302585\n",
      "[LightGBM] [Info] Start training from score 2.302585\n",
      "Best parameters for BalancedRandomForestClassifier: {'max_depth': 20, 'min_samples_split': 2, 'n_estimators': 150}\n",
      "Best parameters for XGBClassifier: {'max_depth': 3, 'n_estimators': 100, 'scale_pos_weight': 15}\n",
      "Best parameters for LGBMClassifier: {'class_weight': {0: 1, 1: 10}, 'n_estimators': 50, 'num_leaves': 31}\n"
     ]
    },
    {
     "name": "stderr",
     "output_type": "stream",
     "text": [
      "c:\\Users\\Utilizador\\Desktop\\IRONHACK\\.venv\\Lib\\site-packages\\imblearn\\ensemble\\_forest.py:577: FutureWarning: The default of `sampling_strategy` will change from `'auto'` to `'all'` in version 0.13. This change will follow the implementation proposed in the original paper. Set to `'all'` to silence this warning and adopt the future behaviour.\n",
      "  warn(\n",
      "c:\\Users\\Utilizador\\Desktop\\IRONHACK\\.venv\\Lib\\site-packages\\imblearn\\ensemble\\_forest.py:589: FutureWarning: The default of `replacement` will change from `False` to `True` in version 0.13. This change will follow the implementation proposed in the original paper. Set to `True` to silence this warning and adopt the future behaviour.\n",
      "  warn(\n",
      "c:\\Users\\Utilizador\\Desktop\\IRONHACK\\.venv\\Lib\\site-packages\\imblearn\\ensemble\\_forest.py:601: FutureWarning: The default of `bootstrap` will change from `True` to `False` in version 0.13. This change will follow the implementation proposed in the original paper. Set to `False` to silence this warning and adopt the future behaviour.\n",
      "  warn(\n",
      "c:\\Users\\Utilizador\\Desktop\\IRONHACK\\.venv\\Lib\\site-packages\\xgboost\\core.py:158: UserWarning: [14:18:55] WARNING: C:\\buildkite-agent\\builds\\buildkite-windows-cpu-autoscaling-group-i-0ed59c031377d09b8-1\\xgboost\\xgboost-ci-windows\\src\\learner.cc:740: \n",
      "Parameters: { \"use_label_encoder\" } are not used.\n",
      "\n",
      "  warnings.warn(smsg, UserWarning)\n",
      "c:\\Users\\Utilizador\\Desktop\\IRONHACK\\.venv\\Lib\\site-packages\\imblearn\\ensemble\\_forest.py:577: FutureWarning: The default of `sampling_strategy` will change from `'auto'` to `'all'` in version 0.13. This change will follow the implementation proposed in the original paper. Set to `'all'` to silence this warning and adopt the future behaviour.\n",
      "  warn(\n",
      "c:\\Users\\Utilizador\\Desktop\\IRONHACK\\.venv\\Lib\\site-packages\\imblearn\\ensemble\\_forest.py:589: FutureWarning: The default of `replacement` will change from `False` to `True` in version 0.13. This change will follow the implementation proposed in the original paper. Set to `True` to silence this warning and adopt the future behaviour.\n",
      "  warn(\n",
      "c:\\Users\\Utilizador\\Desktop\\IRONHACK\\.venv\\Lib\\site-packages\\imblearn\\ensemble\\_forest.py:601: FutureWarning: The default of `bootstrap` will change from `True` to `False` in version 0.13. This change will follow the implementation proposed in the original paper. Set to `False` to silence this warning and adopt the future behaviour.\n",
      "  warn(\n"
     ]
    },
    {
     "name": "stdout",
     "output_type": "stream",
     "text": [
      "[LightGBM] [Warning] Found whitespace in feature_names, replace with underlines\n",
      "[LightGBM] [Info] Number of positive: 9865, number of negative: 9865\n",
      "[LightGBM] [Info] Auto-choosing col-wise multi-threading, the overhead of testing was 0.000937 seconds.\n",
      "You can set `force_col_wise=true` to remove the overhead.\n",
      "[LightGBM] [Info] Total Bins 4335\n",
      "[LightGBM] [Info] Number of data points in the train set: 19730, number of used features: 17\n",
      "[LightGBM] [Info] [binary:BoostFromScore]: pavg=0.909091 -> initscore=2.302585\n",
      "[LightGBM] [Info] Start training from score 2.302585\n"
     ]
    },
    {
     "name": "stderr",
     "output_type": "stream",
     "text": [
      "c:\\Users\\Utilizador\\Desktop\\IRONHACK\\.venv\\Lib\\site-packages\\imblearn\\ensemble\\_forest.py:577: FutureWarning: The default of `sampling_strategy` will change from `'auto'` to `'all'` in version 0.13. This change will follow the implementation proposed in the original paper. Set to `'all'` to silence this warning and adopt the future behaviour.\n",
      "  warn(\n",
      "c:\\Users\\Utilizador\\Desktop\\IRONHACK\\.venv\\Lib\\site-packages\\imblearn\\ensemble\\_forest.py:589: FutureWarning: The default of `replacement` will change from `False` to `True` in version 0.13. This change will follow the implementation proposed in the original paper. Set to `True` to silence this warning and adopt the future behaviour.\n",
      "  warn(\n",
      "c:\\Users\\Utilizador\\Desktop\\IRONHACK\\.venv\\Lib\\site-packages\\imblearn\\ensemble\\_forest.py:601: FutureWarning: The default of `bootstrap` will change from `True` to `False` in version 0.13. This change will follow the implementation proposed in the original paper. Set to `False` to silence this warning and adopt the future behaviour.\n",
      "  warn(\n",
      "c:\\Users\\Utilizador\\Desktop\\IRONHACK\\.venv\\Lib\\site-packages\\imblearn\\ensemble\\_forest.py:577: FutureWarning: The default of `sampling_strategy` will change from `'auto'` to `'all'` in version 0.13. This change will follow the implementation proposed in the original paper. Set to `'all'` to silence this warning and adopt the future behaviour.\n",
      "  warn(\n",
      "c:\\Users\\Utilizador\\Desktop\\IRONHACK\\.venv\\Lib\\site-packages\\imblearn\\ensemble\\_forest.py:589: FutureWarning: The default of `replacement` will change from `False` to `True` in version 0.13. This change will follow the implementation proposed in the original paper. Set to `True` to silence this warning and adopt the future behaviour.\n",
      "  warn(\n",
      "c:\\Users\\Utilizador\\Desktop\\IRONHACK\\.venv\\Lib\\site-packages\\imblearn\\ensemble\\_forest.py:601: FutureWarning: The default of `bootstrap` will change from `True` to `False` in version 0.13. This change will follow the implementation proposed in the original paper. Set to `False` to silence this warning and adopt the future behaviour.\n",
      "  warn(\n",
      "c:\\Users\\Utilizador\\Desktop\\IRONHACK\\.venv\\Lib\\site-packages\\imblearn\\ensemble\\_forest.py:577: FutureWarning: The default of `sampling_strategy` will change from `'auto'` to `'all'` in version 0.13. This change will follow the implementation proposed in the original paper. Set to `'all'` to silence this warning and adopt the future behaviour.\n",
      "  warn(\n",
      "c:\\Users\\Utilizador\\Desktop\\IRONHACK\\.venv\\Lib\\site-packages\\imblearn\\ensemble\\_forest.py:589: FutureWarning: The default of `replacement` will change from `False` to `True` in version 0.13. This change will follow the implementation proposed in the original paper. Set to `True` to silence this warning and adopt the future behaviour.\n",
      "  warn(\n",
      "c:\\Users\\Utilizador\\Desktop\\IRONHACK\\.venv\\Lib\\site-packages\\imblearn\\ensemble\\_forest.py:601: FutureWarning: The default of `bootstrap` will change from `True` to `False` in version 0.13. This change will follow the implementation proposed in the original paper. Set to `False` to silence this warning and adopt the future behaviour.\n",
      "  warn(\n",
      "c:\\Users\\Utilizador\\Desktop\\IRONHACK\\.venv\\Lib\\site-packages\\imblearn\\ensemble\\_forest.py:577: FutureWarning: The default of `sampling_strategy` will change from `'auto'` to `'all'` in version 0.13. This change will follow the implementation proposed in the original paper. Set to `'all'` to silence this warning and adopt the future behaviour.\n",
      "  warn(\n",
      "c:\\Users\\Utilizador\\Desktop\\IRONHACK\\.venv\\Lib\\site-packages\\imblearn\\ensemble\\_forest.py:589: FutureWarning: The default of `replacement` will change from `False` to `True` in version 0.13. This change will follow the implementation proposed in the original paper. Set to `True` to silence this warning and adopt the future behaviour.\n",
      "  warn(\n",
      "c:\\Users\\Utilizador\\Desktop\\IRONHACK\\.venv\\Lib\\site-packages\\imblearn\\ensemble\\_forest.py:601: FutureWarning: The default of `bootstrap` will change from `True` to `False` in version 0.13. This change will follow the implementation proposed in the original paper. Set to `False` to silence this warning and adopt the future behaviour.\n",
      "  warn(\n",
      "c:\\Users\\Utilizador\\Desktop\\IRONHACK\\.venv\\Lib\\site-packages\\xgboost\\core.py:158: UserWarning: [14:19:36] WARNING: C:\\buildkite-agent\\builds\\buildkite-windows-cpu-autoscaling-group-i-0ed59c031377d09b8-1\\xgboost\\xgboost-ci-windows\\src\\learner.cc:740: \n",
      "Parameters: { \"use_label_encoder\" } are not used.\n",
      "\n",
      "  warnings.warn(smsg, UserWarning)\n",
      "c:\\Users\\Utilizador\\Desktop\\IRONHACK\\.venv\\Lib\\site-packages\\xgboost\\core.py:158: UserWarning: [14:19:36] WARNING: C:\\buildkite-agent\\builds\\buildkite-windows-cpu-autoscaling-group-i-0ed59c031377d09b8-1\\xgboost\\xgboost-ci-windows\\src\\learner.cc:740: \n",
      "Parameters: { \"use_label_encoder\" } are not used.\n",
      "\n",
      "  warnings.warn(smsg, UserWarning)\n",
      "c:\\Users\\Utilizador\\Desktop\\IRONHACK\\.venv\\Lib\\site-packages\\xgboost\\core.py:158: UserWarning: [14:19:36] WARNING: C:\\buildkite-agent\\builds\\buildkite-windows-cpu-autoscaling-group-i-0ed59c031377d09b8-1\\xgboost\\xgboost-ci-windows\\src\\learner.cc:740: \n",
      "Parameters: { \"use_label_encoder\" } are not used.\n",
      "\n",
      "  warnings.warn(smsg, UserWarning)\n",
      "c:\\Users\\Utilizador\\Desktop\\IRONHACK\\.venv\\Lib\\site-packages\\xgboost\\core.py:158: UserWarning: [14:19:37] WARNING: C:\\buildkite-agent\\builds\\buildkite-windows-cpu-autoscaling-group-i-0ed59c031377d09b8-1\\xgboost\\xgboost-ci-windows\\src\\learner.cc:740: \n",
      "Parameters: { \"use_label_encoder\" } are not used.\n",
      "\n",
      "  warnings.warn(smsg, UserWarning)\n",
      "c:\\Users\\Utilizador\\Desktop\\IRONHACK\\.venv\\Lib\\site-packages\\xgboost\\core.py:158: UserWarning: [14:19:37] WARNING: C:\\buildkite-agent\\builds\\buildkite-windows-cpu-autoscaling-group-i-0ed59c031377d09b8-1\\xgboost\\xgboost-ci-windows\\src\\learner.cc:740: \n",
      "Parameters: { \"use_label_encoder\" } are not used.\n",
      "\n",
      "  warnings.warn(smsg, UserWarning)\n"
     ]
    },
    {
     "name": "stdout",
     "output_type": "stream",
     "text": [
      "[LightGBM] [Warning] Found whitespace in feature_names, replace with underlines\n",
      "[LightGBM] [Info] Number of positive: 7892, number of negative: 7892\n",
      "[LightGBM] [Info] Auto-choosing col-wise multi-threading, the overhead of testing was 0.000859 seconds.\n",
      "You can set `force_col_wise=true` to remove the overhead.\n",
      "[LightGBM] [Info] Total Bins 4335\n",
      "[LightGBM] [Info] Number of data points in the train set: 15784, number of used features: 17\n",
      "[LightGBM] [Info] [binary:BoostFromScore]: pavg=0.909091 -> initscore=2.302585\n",
      "[LightGBM] [Info] Start training from score 2.302585\n",
      "[LightGBM] [Warning] Found whitespace in feature_names, replace with underlines\n",
      "[LightGBM] [Info] Number of positive: 7892, number of negative: 7892\n",
      "[LightGBM] [Info] Auto-choosing col-wise multi-threading, the overhead of testing was 0.000770 seconds.\n",
      "You can set `force_col_wise=true` to remove the overhead.\n",
      "[LightGBM] [Info] Total Bins 4335\n",
      "[LightGBM] [Info] Number of data points in the train set: 15784, number of used features: 17\n",
      "[LightGBM] [Info] [binary:BoostFromScore]: pavg=0.909091 -> initscore=2.302585\n",
      "[LightGBM] [Info] Start training from score 2.302585\n",
      "[LightGBM] [Warning] Found whitespace in feature_names, replace with underlines\n",
      "[LightGBM] [Info] Number of positive: 7892, number of negative: 7892\n",
      "[LightGBM] [Info] Auto-choosing col-wise multi-threading, the overhead of testing was 0.001018 seconds.\n",
      "You can set `force_col_wise=true` to remove the overhead.\n",
      "[LightGBM] [Info] Total Bins 4335\n",
      "[LightGBM] [Info] Number of data points in the train set: 15784, number of used features: 17\n",
      "[LightGBM] [Info] [binary:BoostFromScore]: pavg=0.909091 -> initscore=2.302585\n",
      "[LightGBM] [Info] Start training from score 2.302585\n",
      "[LightGBM] [Warning] Found whitespace in feature_names, replace with underlines\n",
      "[LightGBM] [Info] Number of positive: 7892, number of negative: 7892\n",
      "[LightGBM] [Info] Auto-choosing col-wise multi-threading, the overhead of testing was 0.000832 seconds.\n",
      "You can set `force_col_wise=true` to remove the overhead.\n",
      "[LightGBM] [Info] Total Bins 4335\n",
      "[LightGBM] [Info] Number of data points in the train set: 15784, number of used features: 17\n",
      "[LightGBM] [Info] [binary:BoostFromScore]: pavg=0.909091 -> initscore=2.302585\n",
      "[LightGBM] [Info] Start training from score 2.302585\n",
      "[LightGBM] [Warning] Found whitespace in feature_names, replace with underlines\n",
      "[LightGBM] [Info] Number of positive: 7892, number of negative: 7892\n",
      "[LightGBM] [Info] Auto-choosing col-wise multi-threading, the overhead of testing was 0.000720 seconds.\n",
      "You can set `force_col_wise=true` to remove the overhead.\n",
      "[LightGBM] [Info] Total Bins 4335\n",
      "[LightGBM] [Info] Number of data points in the train set: 15784, number of used features: 17\n",
      "[LightGBM] [Info] [binary:BoostFromScore]: pavg=0.909091 -> initscore=2.302585\n",
      "[LightGBM] [Info] Start training from score 2.302585\n",
      "\n",
      "Stacking Model Performance:\n",
      "Accuracy: 0.9810330912025828\n",
      "Precision: 0.02564102564102564\n",
      "Recall: 0.1\n"
     ]
    }
   ],
   "source": [
    "import xgboost as xgb\n",
    "import lightgbm as lgb\n",
    "from sklearn.ensemble import StackingClassifier, GradientBoostingClassifier\n",
    "from sklearn.metrics import accuracy_score, precision_score, recall_score\n",
    "from imblearn.ensemble import BalancedRandomForestClassifier\n",
    "from sklearn.model_selection import RandomizedSearchCV\n",
    "\n",
    "# Define parameter grids for hyperparameter tuning\n",
    "param_grid_brf = {\n",
    "    'n_estimators': [100, 150, 200],\n",
    "    'max_depth': [10, 20, 30],\n",
    "    'min_samples_split': [2, 5, 10]\n",
    "}\n",
    "\n",
    "param_grid_xgb = {\n",
    "    'n_estimators': [50, 100, 150],\n",
    "    'max_depth': [3, 6, 10],\n",
    "    'scale_pos_weight': [5, 10, 15]\n",
    "}\n",
    "\n",
    "param_grid_lgb = {\n",
    "    'n_estimators': [50, 100, 150],\n",
    "    'num_leaves': [31, 50, 100],\n",
    "    'class_weight': [{0: 1, 1: 10}, {0: 1, 1: 20}, {0: 1, 1: 30}]\n",
    "}\n",
    "\n",
    "# Initialize base models\n",
    "brf = BalancedRandomForestClassifier()\n",
    "xgb_model = xgb.XGBClassifier(use_label_encoder=False, eval_metric='logloss')\n",
    "lgb_model = lgb.LGBMClassifier()\n",
    "\n",
    "# Perform RandomizedSearchCV on each model\n",
    "random_search_brf = GridSearchCV(brf, param_grid_brf, cv=5, scoring='recall', n_jobs=-1)\n",
    "random_search_xgb = GridSearchCV(xgb_model, param_grid_xgb, cv=5, scoring='recall', n_jobs=-1)\n",
    "random_search_lgb = GridSearchCV(lgb_model, param_grid_lgb, cv=5, scoring='recall', n_jobs=-1)\n",
    "\n",
    "# Fit each search to find the best model\n",
    "random_search_brf.fit(X_train_sm, y_train_sm)\n",
    "random_search_xgb.fit(X_train_sm, y_train_sm)\n",
    "random_search_lgb.fit(X_train_sm, y_train_sm)\n",
    "\n",
    "# Retrieve best estimators\n",
    "best_brf = random_search_brf.best_estimator_\n",
    "best_xgb = random_search_xgb.best_estimator_\n",
    "best_lgb = random_search_lgb.best_estimator_\n",
    "\n",
    "# Display best parameters\n",
    "print(\"Best parameters for BalancedRandomForestClassifier:\", random_search_brf.best_params_)\n",
    "print(\"Best parameters for XGBClassifier:\", random_search_xgb.best_params_)\n",
    "print(\"Best parameters for LGBMClassifier:\", random_search_lgb.best_params_)\n",
    "\n",
    "# Define base models with best parameters\n",
    "base_models = [\n",
    "    ('brf', best_brf),\n",
    "    ('xgb', best_xgb),\n",
    "    ('lgb', best_lgb)\n",
    "]\n",
    "\n",
    "# Define the stacking model with a GradientBoostingClassifier as the meta-classifier\n",
    "stacking_model = StackingClassifier(\n",
    "    estimators=base_models,\n",
    "    final_estimator=GradientBoostingClassifier(n_estimators=50, learning_rate=0.1, max_depth=5)\n",
    ")\n",
    "\n",
    "# Train the stacking model on the oversampled data\n",
    "stacking_model.fit(X_train_sm, y_train_sm)\n",
    "\n",
    "# Predict probabilities with the stacking model\n",
    "y_prob_stacking = stacking_model.predict_proba(X_test_norm)[:, 1]  # Probability for the positive class\n",
    "\n",
    "# Apply the custom threshold\n",
    "custom_threshold = 0.01\n",
    "y_pred_stack_custom_threshold = (y_prob_stacking >= custom_threshold).astype(int)\n",
    "\n",
    "# Evaluate the stacking model\n",
    "precision = precision_score(y_test, y_pred_stack_custom_threshold)\n",
    "accuracy = accuracy_score(y_test, y_pred_stack_custom_threshold)\n",
    "recall = recall_score(y_test, y_pred_stack_custom_threshold)\n",
    "\n",
    "print(\"\\nStacking Model Performance:\")\n",
    "print(\"Accuracy:\", accuracy)\n",
    "print(\"Precision:\", precision)\n",
    "print(\"Recall:\", recall)"
   ]
  }
 ],
 "metadata": {
  "kernelspec": {
   "display_name": ".venv",
   "language": "python",
   "name": "python3"
  },
  "language_info": {
   "codemirror_mode": {
    "name": "ipython",
    "version": 3
   },
   "file_extension": ".py",
   "mimetype": "text/x-python",
   "name": "python",
   "nbconvert_exporter": "python",
   "pygments_lexer": "ipython3",
   "version": "3.12.7"
  }
 },
 "nbformat": 4,
 "nbformat_minor": 2
}
