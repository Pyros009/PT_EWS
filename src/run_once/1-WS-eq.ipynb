{
 "cells": [
  {
   "cell_type": "code",
   "execution_count": 1,
   "metadata": {},
   "outputs": [
    {
     "data": {
      "text/plain": [
       "403"
      ]
     },
     "execution_count": 1,
     "metadata": {},
     "output_type": "execute_result"
    }
   ],
   "source": [
    "import time\n",
    "from selenium import webdriver\n",
    "from selenium.webdriver.common.by import By\n",
    "from selenium.webdriver.common.keys import Keys\n",
    "from bs4 import BeautifulSoup\n",
    "import pandas as pd\n",
    "import requests\n",
    "\n",
    "burl = \"https://www.volcanodiscovery.com/\"\n",
    "url = \"https://www.volcanodiscovery.com/earthquakes/portugal/largest.html\"\n",
    "\n",
    "headers = {\"User-Agent\":\"bingbot\"}\n",
    "\n",
    "response = requests.get(url, headers=headers)\n",
    "stat = response.status_code\n",
    "soup = BeautifulSoup(response.content, 'html.parser')\n",
    "\n",
    "stat\n",
    "\n",
    "\n"
   ]
  },
  {
   "cell_type": "code",
   "execution_count": 2,
   "metadata": {},
   "outputs": [],
   "source": [
    "driver = webdriver.Chrome()\n",
    "driver.get(url)\n",
    "html = driver.page_source"
   ]
  },
  {
   "cell_type": "code",
   "execution_count": 3,
   "metadata": {},
   "outputs": [],
   "source": [
    "soup_s = BeautifulSoup(html)"
   ]
  },
  {
   "cell_type": "code",
   "execution_count": 4,
   "metadata": {},
   "outputs": [],
   "source": [
    "items = soup_s.find_all(\"div\", attrs = {\"class\":\"table-wrap\"})"
   ]
  },
  {
   "cell_type": "code",
   "execution_count": 5,
   "metadata": {},
   "outputs": [],
   "source": [
    "items_listing = items[0].find_all(\"td\", attrs = {\"class\":\"list_time\"})\n",
    "PT_earthquakes_ref = []\n",
    "for td in items_listing:\n",
    "    # Extract href from the onclick attribute\n",
    "    onclick_value = td['onclick']\n",
    "    href = onclick_value.split(\"'\")[1]\n",
    "    PT_earthquakes_ref.append(href)\n",
    "\n"
   ]
  },
  {
   "cell_type": "code",
   "execution_count": 6,
   "metadata": {},
   "outputs": [
    {
     "data": {
      "text/plain": [
       "'https://www.volcanodiscovery.com/earthquakes/quake-info/9571132/quake-felt-Aug-26-2024-Near-Lissabon-Lissabon-Portugal.html'"
      ]
     },
     "execution_count": 6,
     "metadata": {},
     "output_type": "execute_result"
    }
   ],
   "source": [
    "burl+PT_earthquakes_ref[0]"
   ]
  },
  {
   "cell_type": "code",
   "execution_count": 20,
   "metadata": {},
   "outputs": [],
   "source": [
    "import time\n",
    "\n",
    "PT_earthquake = dict()\n",
    "\n",
    "for piece in range(len(PT_earthquakes_ref)):\n",
    "    driver2 = webdriver.Chrome()\n",
    "    driver2.get(burl+PT_earthquakes_ref[piece])\n",
    "    html = driver2.page_source\n",
    "    soup_s2 = BeautifulSoup(html)\n",
    "    items = soup_s2.find('section', id='qDataSection')\n",
    "    items2 = items.find_all('td')\n",
    "    lines = []\n",
    "    for line in items2:\n",
    "        lines.append(line.get_text())\n",
    "    lines = [lines[i] for i in range(1,len(lines),2)]\n",
    "    date = lines[1]\n",
    "    mag = lines[3]\n",
    "    depth = lines[4]\n",
    "    epicenter = \" \".join(lines[5].split(\" \")[0:3])\n",
    "    mercali = lines[7].split('\\xa0')\n",
    "    entry = {\n",
    "    date: {\n",
    "        \"magnitude\": mag,\n",
    "        \"depth\": depth,\n",
    "        \"epicenter\": epicenter,\n",
    "        \"mercali\": mercali\n",
    "        }\n",
    "    }\n",
    "    PT_earthquake.update(entry)   \n",
    "    time.sleep(0.5)    "
   ]
  },
  {
   "cell_type": "code",
   "execution_count": 23,
   "metadata": {},
   "outputs": [],
   "source": [
    "pt_ek = pd.DataFrame.from_dict(PT_earthquake)"
   ]
  },
  {
   "cell_type": "code",
   "execution_count": 28,
   "metadata": {},
   "outputs": [],
   "source": [
    "pt_ek.to_csv(\"C:/Users/Utilizador/Desktop/IRONHACK/FinalProj/PT_earthquakes_strong.csv\")"
   ]
  },
  {
   "cell_type": "code",
   "execution_count": 30,
   "metadata": {},
   "outputs": [],
   "source": [
    "pt_ek.T.to_csv(\"C:/Users/Utilizador/Desktop/IRONHACK/FinalProj/PT_earthquakes_strong_T.csv\")"
   ]
  }
 ],
 "metadata": {
  "kernelspec": {
   "display_name": "conda3-12",
   "language": "python",
   "name": "python3"
  },
  "language_info": {
   "codemirror_mode": {
    "name": "ipython",
    "version": 3
   },
   "file_extension": ".py",
   "mimetype": "text/x-python",
   "name": "python",
   "nbconvert_exporter": "python",
   "pygments_lexer": "ipython3",
   "version": "3.12.6"
  }
 },
 "nbformat": 4,
 "nbformat_minor": 2
}
