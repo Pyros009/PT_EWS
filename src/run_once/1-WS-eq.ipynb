{
 "cells": [
  {
   "cell_type": "code",
   "execution_count": null,
   "metadata": {},
   "outputs": [],
   "source": [
    "import time, os\n",
    "from selenium import webdriver\n",
    "from selenium.webdriver.common.by import By\n",
    "from selenium.webdriver.common.keys import Keys\n",
    "from bs4 import BeautifulSoup\n",
    "import pandas as pd\n",
    "import requests\n",
    "\n",
    "burl = \"https://www.volcanodiscovery.com/\"\n",
    "url = \"https://www.volcanodiscovery.com/earthquakes/portugal/largest.html\"\n",
    "\n",
    "headers = {\"User-Agent\":\"bingbot\"}\n",
    "\n",
    "response = requests.get(url, headers=headers)\n",
    "stat = response.status_code\n",
    "soup = BeautifulSoup(response.content, 'html.parser')\n",
    "\n",
    "stat\n",
    "\n",
    "\n"
   ]
  },
  {
   "cell_type": "code",
   "execution_count": null,
   "metadata": {},
   "outputs": [],
   "source": [
    "driver = webdriver.Chrome()\n",
    "driver.get(url)\n",
    "html = driver.page_source"
   ]
  },
  {
   "cell_type": "code",
   "execution_count": null,
   "metadata": {},
   "outputs": [],
   "source": [
    "soup_s = BeautifulSoup(html)"
   ]
  },
  {
   "cell_type": "code",
   "execution_count": null,
   "metadata": {},
   "outputs": [],
   "source": [
    "items = soup_s.find_all(\"div\", attrs = {\"class\":\"table-wrap\"})"
   ]
  },
  {
   "cell_type": "code",
   "execution_count": null,
   "metadata": {},
   "outputs": [],
   "source": [
    "items_listing = items[0].find_all(\"td\", attrs = {\"class\":\"list_time\"})\n",
    "PT_earthquakes_ref = []\n",
    "for td in items_listing:\n",
    "    # Extract href from the onclick attribute\n",
    "    onclick_value = td['onclick']\n",
    "    href = onclick_value.split(\"'\")[1]\n",
    "    PT_earthquakes_ref.append(href)\n",
    "\n"
   ]
  },
  {
   "cell_type": "code",
   "execution_count": null,
   "metadata": {},
   "outputs": [],
   "source": [
    "burl+PT_earthquakes_ref[0]"
   ]
  },
  {
   "cell_type": "code",
   "execution_count": null,
   "metadata": {},
   "outputs": [],
   "source": [
    "import time\n",
    "\n",
    "PT_earthquake = dict()\n",
    "\n",
    "for piece in range(len(PT_earthquakes_ref)):\n",
    "    driver2 = webdriver.Chrome()\n",
    "    driver2.get(burl+PT_earthquakes_ref[piece])\n",
    "    html = driver2.page_source\n",
    "    soup_s2 = BeautifulSoup(html)\n",
    "    items = soup_s2.find('section', id='qDataSection')\n",
    "    items2 = items.find_all('td')\n",
    "    lines = []\n",
    "    for line in items2:\n",
    "        lines.append(line.get_text())\n",
    "    lines = [lines[i] for i in range(1,len(lines),2)]\n",
    "    date = lines[1]\n",
    "    mag = lines[3]\n",
    "    depth = lines[4]\n",
    "    epicenter = \" \".join(lines[5].split(\" \")[0:3])\n",
    "    mercali = lines[7].split('\\xa0')\n",
    "    entry = {\n",
    "    date: {\n",
    "        \"magnitude\": mag,\n",
    "        \"depth\": depth,\n",
    "        \"epicenter\": epicenter,\n",
    "        \"mercali\": mercali\n",
    "        }\n",
    "    }\n",
    "    PT_earthquake.update(entry)   \n",
    "    time.sleep(0.5)    "
   ]
  },
  {
   "cell_type": "code",
   "execution_count": null,
   "metadata": {},
   "outputs": [],
   "source": [
    "pt_ek = pd.DataFrame.from_dict(PT_earthquake)"
   ]
  },
  {
   "cell_type": "code",
   "execution_count": null,
   "metadata": {},
   "outputs": [],
   "source": [
    "# Specify the save folder\n",
    "current_dir = os.getcwd()\n",
    "root_dir = os.path.abspath(os.path.join(current_dir, '..', '..'))\n",
    "directory_path = os.path.join(root_dir, 'dbs') # Change this to your folder path\n",
    "os.makedirs(directory_path, exist_ok=True)\n",
    "file_path = os.path.join(directory_path, \"PT_earthquakes_strong_T.csv\")\n",
    "pt_ek.T.to_csv(file_path)"
   ]
  }
 ],
 "metadata": {
  "kernelspec": {
   "display_name": ".venv",
   "language": "python",
   "name": "python3"
  },
  "language_info": {
   "codemirror_mode": {
    "name": "ipython",
    "version": 3
   },
   "file_extension": ".py",
   "mimetype": "text/x-python",
   "name": "python",
   "nbconvert_exporter": "python",
   "pygments_lexer": "ipython3",
   "version": "3.12.7"
  }
 },
 "nbformat": 4,
 "nbformat_minor": 2
}
